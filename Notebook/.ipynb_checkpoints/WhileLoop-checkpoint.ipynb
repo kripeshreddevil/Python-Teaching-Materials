{
 "cells": [
  {
   "cell_type": "code",
   "execution_count": 1,
   "id": "fcc27a39-85af-4877-a210-4194d951e2b8",
   "metadata": {},
   "outputs": [],
   "source": [
    "#The while loop in python is used to iterate over a block of code as long as the test expression is evaluated to true.\n",
    "#While the condition of the while loop is true, then, keep executing the code within the while loop's code block until such point \n",
    "#when the while loop's expression evaluates to false."
   ]
  },
  {
   "cell_type": "code",
   "execution_count": 9,
   "id": "b50a9d54-7b7a-4020-9e16-a83ce75e1844",
   "metadata": {},
   "outputs": [],
   "source": [
    "while raining == True:\n",
    "    take_a_umbrella \n",
    "\n",
    "while True:\n",
    "    do_the_work\n",
    "\n",
    "#We generally use a while loop when we don't know the number of items to iterate before hand\n",
    "\n",
    "while user_wants_to_play_game == True:\n",
    "    play_game\n",
    "\n",
    "# We don't know how many times the user want to play the games but its when the user_wants_to_play_game evaluates to 'false', which needs to be some form of\n",
    "# user input, then, we need to stop playing the game."
   ]
  },
  {
   "cell_type": "markdown",
   "id": "f634b9f7-47cd-4b5f-abfc-49cdbea9737c",
   "metadata": {},
   "source": [
    "#While Loop Syntax"
   ]
  },
  {
   "cell_type": "code",
   "execution_count": null,
   "id": "a4b229af-2e95-476a-aea2-4265172a6cb6",
   "metadata": {},
   "outputs": [],
   "source": [
    "# We start with the keyword while. We then put the test expression. We could put a boolen value 'True'. It could also be a boolean variable which contains either\n",
    "# True or False or it could be an expression that evaluates true or false based on the condition. We then put a colon. After a colon,we put the statements\n",
    "# that we want to execute when the test expression is true.\n",
    "while test_expression:\n",
    "    statements\n",
    "\n",
    "while x > 3:\n",
    "    statements"
   ]
  },
  {
   "cell_type": "code",
   "execution_count": 13,
   "id": "c511ea6c-fa49-4809-b161-73aa96625c65",
   "metadata": {},
   "outputs": [
    {
     "name": "stdout",
     "output_type": "stream",
     "text": [
      "Hello!\n",
      "Hello!\n",
      "Hello!\n"
     ]
    }
   ],
   "source": [
    "count = 0\n",
    "while count < 3:  # Runs while count is less than 3\n",
    "    print(\"Hello!\")\n"
   ]
  },
  {
   "cell_type": "code",
   "execution_count": 4,
   "id": "a871e716-649b-4606-b6e7-47dfb65e60a8",
   "metadata": {},
   "outputs": [
    {
     "name": "stdout",
     "output_type": "stream",
     "text": [
      "5\n"
     ]
    }
   ],
   "source": [
    "#Print numbers from 1 to 5\n",
    "i = 1\n",
    "while i <= 5:\n",
    "    print(i)\n",
    "    i += 1\n"
   ]
  },
  {
   "cell_type": "code",
   "execution_count": null,
   "id": "1c80134e-add8-4b87-ab5f-a80a6d27c5c3",
   "metadata": {},
   "outputs": [],
   "source": [
    "#Sum of first 10 natural numbers\n",
    "\n",
    "i = 1\n",
    "total = 0\n",
    "while i <= 10:\n",
    "    total += i\n",
    "    i += 1\n",
    "print(\"Sum:\", total)\n"
   ]
  },
  {
   "cell_type": "code",
   "execution_count": null,
   "id": "f3e701b8-6c82-4c7d-b2cf-c1d0c30838bd",
   "metadata": {},
   "outputs": [],
   "source": [
    "#Print even numbers from 1 to 10\n",
    "i = 1\n",
    "while i <= 10:\n",
    "    if i % 2 == 0:\n",
    "        print(i)\n",
    "    i += 1\n"
   ]
  },
  {
   "cell_type": "code",
   "execution_count": 1,
   "id": "63f4c2c5-36ca-4205-8378-eed2026ad25c",
   "metadata": {},
   "outputs": [
    {
     "name": "stdout",
     "output_type": "stream",
     "text": [
      "Reversed number: 4\n",
      "Reversed number: 43\n",
      "Reversed number: 432\n",
      "Reversed number: 4321\n"
     ]
    }
   ],
   "source": [
    "#Reverse a number\n",
    "\n",
    "num = 1234\n",
    "reversed_num = 0\n",
    "\n",
    "while num > 0:\n",
    "    digit = num % 10 # 1\n",
    "    reversed_num = reversed_num * 10 + digit # 4321\n",
    "    num //= 10 # 1\n",
    "\n",
    "print(\"Reversed number:\", reversed_num)\n"
   ]
  },
  {
   "cell_type": "code",
   "execution_count": null,
   "id": "b3a9f1d9-095c-4f37-ae0a-5b05c4410fdd",
   "metadata": {},
   "outputs": [],
   "source": [
    "#Find the factorial of a number\n",
    "num = 5  # You can replace 5 with any number\n",
    "factorial = 1\n",
    "\n",
    "while num > 0:\n",
    "    factorial *= num # 5 * 4\n",
    "    num -= 1\n",
    "\n",
    "print(\"Factorial:\", factorial)\n"
   ]
  },
  {
   "cell_type": "code",
   "execution_count": null,
   "id": "7942ef57-8f40-4441-9a60-12c2ff22a91f",
   "metadata": {},
   "outputs": [],
   "source": [
    "#Keep asking until a correct input is given\n",
    "user_input = 0\n",
    "\n",
    "while user_input != 10:\n",
    "    user_input = int(input(\"Enter the number 10: \"))\n",
    "\n",
    "print(\"Correct input! Program ends.\")\n"
   ]
  },
  {
   "cell_type": "code",
   "execution_count": null,
   "id": "c414546c-98d1-4d53-bda1-53325f766b36",
   "metadata": {},
   "outputs": [],
   "source": [
    "#Print the digits of a number\n",
    "#Question: Write a program to print all the digits of a number using a while loop. For example, for 1234, the output should be 1 2 3 4.\n",
    "\n",
    "num = 1234\n",
    "digits = []\n",
    "\n",
    "while num > 0:\n",
    "    digits.append(num % 10)\n",
    "    num //= 10\n",
    "\n",
    "for digit in reversed(digits):\n",
    "    print(digit, end=\" \")\n"
   ]
  },
  {
   "cell_type": "code",
   "execution_count": null,
   "id": "e14a389e-cbd0-43f8-b517-4cabbafcbe9f",
   "metadata": {},
   "outputs": [],
   "source": [
    "#Guessing Game\n",
    "secret_number = 7\n",
    "guess = None\n",
    "\n",
    "while guess != secret_number:\n",
    "    guess = int(input(\"Guess the secret number: \"))\n",
    "\n",
    "print(\"Congratulations! You guessed the secret number.\")\n"
   ]
  }
 ],
 "metadata": {
  "kernelspec": {
   "display_name": "Python 3 (ipykernel)",
   "language": "python",
   "name": "python3"
  },
  "language_info": {
   "codemirror_mode": {
    "name": "ipython",
    "version": 3
   },
   "file_extension": ".py",
   "mimetype": "text/x-python",
   "name": "python",
   "nbconvert_exporter": "python",
   "pygments_lexer": "ipython3",
   "version": "3.11.3"
  }
 },
 "nbformat": 4,
 "nbformat_minor": 5
}
