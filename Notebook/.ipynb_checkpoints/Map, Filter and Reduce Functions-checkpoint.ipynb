{
 "cells": [
  {
   "cell_type": "markdown",
   "id": "5e46c7db-2699-4f2d-a6c9-873e1713e5f5",
   "metadata": {},
   "source": [
    "# filter(), map() and reduce()"
   ]
  },
  {
   "cell_type": "markdown",
   "id": "f8c2efb9-57b4-4e1b-bc67-49a11ca23f5c",
   "metadata": {},
   "source": [
    "# The filter() function"
   ]
  },
  {
   "cell_type": "code",
   "execution_count": 1,
   "id": "b136da40-beab-4409-ba7a-3115d11a40ba",
   "metadata": {},
   "outputs": [
    {
     "data": {
      "text/plain": [
       "'filter(function or None, iterable) --> filter object\\n\\nReturn an iterator yielding those items of iterable for which function(item)\\nis true. If function is None, return the items that are true.'"
      ]
     },
     "execution_count": 1,
     "metadata": {},
     "output_type": "execute_result"
    }
   ],
   "source": [
    "filter.__doc__"
   ]
  },
  {
   "cell_type": "code",
   "execution_count": 5,
   "id": "2a6f0d4b-25c9-4030-be76-38ec9197d461",
   "metadata": {},
   "outputs": [],
   "source": [
    "even_checker = lambda num: num%2 == 0\n",
    "\n",
    "# def even_checker(num):\n",
    "#     return num % 2 == 0  # Return True if num is even, False otherwise"
   ]
  },
  {
   "cell_type": "code",
   "execution_count": 6,
   "id": "d810c11b-584c-48bf-8376-d73ca26965d6",
   "metadata": {},
   "outputs": [],
   "source": [
    "my_list = [1, 2, 3, 4, 5]"
   ]
  },
  {
   "cell_type": "code",
   "execution_count": 7,
   "id": "3bb1bf1d-2a90-4988-bb08-5207e613c2cb",
   "metadata": {},
   "outputs": [
    {
     "data": {
      "text/plain": [
       "<filter at 0x188aa63c8b0>"
      ]
     },
     "execution_count": 7,
     "metadata": {},
     "output_type": "execute_result"
    }
   ],
   "source": [
    "filter(even_checker, my_list)\n",
    "# filter() applies the function to each element of the iterable automatically, one at a time. \n",
    "# So, you don’t need to explicitly pass the argument (num) to the function—it happens behind the scenes."
   ]
  },
  {
   "cell_type": "code",
   "execution_count": 43,
   "id": "01caad28-2568-48b4-9035-b8e47040aed1",
   "metadata": {},
   "outputs": [
    {
     "data": {
      "text/plain": [
       "[2, 4]"
      ]
     },
     "execution_count": 43,
     "metadata": {},
     "output_type": "execute_result"
    }
   ],
   "source": [
    "list(filter(even_checker, my_list))"
   ]
  },
  {
   "cell_type": "markdown",
   "id": "53448866-96f6-43da-9171-494d6ae324bd",
   "metadata": {},
   "source": [
    "# filter() Practice Questions"
   ]
  },
  {
   "cell_type": "markdown",
   "id": "7b9b968e-618e-4e65-8036-5285e870da40",
   "metadata": {},
   "source": [
    "1. Filter even numbers Given a list [1, 2, 3, 4, 5, 6, 7, 8, 9], use filter() and a lambda function to extract only even numbers.\n",
    "\n",
    "2. Filter strings that start with 'A' Given a list of names: ['Alice', 'Bob', 'Annie', 'Tom'], filter names that start with the letter 'A'.\n",
    "\n",
    "3. Filter numbers greater than 5 Given a list [2, 4, 6, 8, 10, 3, 5], filter numbers that are greater than 5 using filter().\n",
    "\n",
    "4. Filter palindromes Given a list of words ['radar', 'level', 'hello', 'world', 'civic'], filter only the palindromic words (words that read the same backward).\n",
    "\n",
    "5. Filter prime numbers Write a function is_prime() and use it with filter() to filter prime numbers from the list [2, 3, 4, 5, 6, 7, 8, 9, 10]."
   ]
  },
  {
   "cell_type": "markdown",
   "id": "38b98580-faaf-4872-a499-8fef78df8574",
   "metadata": {},
   "source": [
    "# The map() function"
   ]
  },
  {
   "cell_type": "code",
   "execution_count": 18,
   "id": "ab9447ab-4d59-440c-8637-5d8803a75c03",
   "metadata": {},
   "outputs": [
    {
     "data": {
      "text/plain": [
       "'map(func, *iterables) --> map object\\n\\nMake an iterator that computes the function using arguments from\\neach of the iterables.  Stops when the shortest iterable is exhausted.'"
      ]
     },
     "execution_count": 18,
     "metadata": {},
     "output_type": "execute_result"
    }
   ],
   "source": [
    "map.__doc__"
   ]
  },
  {
   "cell_type": "code",
   "execution_count": 9,
   "id": "ce666362-744f-471d-8911-4d9af3ebf26f",
   "metadata": {},
   "outputs": [],
   "source": [
    "calculate_area = lambda radius : 3.14 * radius * radius"
   ]
  },
  {
   "cell_type": "code",
   "execution_count": 13,
   "id": "9a328476-8f35-4909-9987-d85ad49a82c3",
   "metadata": {},
   "outputs": [],
   "source": [
    "my_list = [ 7, 2, 12, 14, 21, 8]"
   ]
  },
  {
   "cell_type": "code",
   "execution_count": 14,
   "id": "9497d837-fa64-4ba7-9b6d-2102367f793d",
   "metadata": {},
   "outputs": [
    {
     "data": {
      "text/plain": [
       "<map at 0x188aa63e710>"
      ]
     },
     "execution_count": 14,
     "metadata": {},
     "output_type": "execute_result"
    }
   ],
   "source": [
    "map(calculate_area, my_list)"
   ]
  },
  {
   "cell_type": "code",
   "execution_count": 15,
   "id": "14d7f0b7-931c-4263-b738-c16092159caa",
   "metadata": {},
   "outputs": [
    {
     "data": {
      "text/plain": [
       "[153.86, 12.56, 452.15999999999997, 615.44, 1384.74, 200.96]"
      ]
     },
     "execution_count": 15,
     "metadata": {},
     "output_type": "execute_result"
    }
   ],
   "source": [
    "list(map(calculate_area, my_list))"
   ]
  },
  {
   "cell_type": "markdown",
   "id": "ec31aa3d-3a06-4fef-9ade-e35e638df21c",
   "metadata": {},
   "source": [
    "# map() Practice Questions"
   ]
  },
  {
   "cell_type": "markdown",
   "id": "6aa964e3-5336-4ac3-970f-12be0eb80360",
   "metadata": {},
   "source": [
    "1. Square each element Use map() and a lambda function to calculate the square of each number in the list [1, 2, 3, 4, 5].\n",
    "\n",
    "2. Convert temperatures Given a list of temperatures in Celsius [30, 25, 40], convert them to Fahrenheit using map().\n",
    "\n",
    "3. Capitalize words Given a list of strings ['hello', 'world'], use map() to capitalize each word.\n",
    "\n",
    "4. Length of strings Use map() to calculate the length of each word in the list ['apple', 'banana', 'cherry'].\n",
    "\n",
    "5. Double the numbers Given a list [1, 2, 3, 4], use map() to double each number in the list.\n",
    "\n"
   ]
  },
  {
   "cell_type": "markdown",
   "id": "d2cc4e7f-503e-4739-9521-703576745788",
   "metadata": {},
   "source": [
    "# The reduce() function"
   ]
  },
  {
   "cell_type": "code",
   "execution_count": 26,
   "id": "899ea254-51f5-41b0-bc5b-cae92f315959",
   "metadata": {},
   "outputs": [
    {
     "data": {
      "text/plain": [
       "'reduce(function, iterable[, initial]) -> value\\n\\nApply a function of two arguments cumulatively to the items of a sequence\\nor iterable, from left to right, so as to reduce the iterable to a single\\nvalue.  For example, reduce(lambda x, y: x+y, [1, 2, 3, 4, 5]) calculates\\n((((1+2)+3)+4)+5).  If initial is present, it is placed before the items\\nof the iterable in the calculation, and serves as a default when the\\niterable is empty.'"
      ]
     },
     "execution_count": 26,
     "metadata": {},
     "output_type": "execute_result"
    }
   ],
   "source": [
    "from functools import reduce\n",
    "reduce.__doc__"
   ]
  },
  {
   "cell_type": "code",
   "execution_count": 29,
   "id": "34b93aba-45ad-41da-bf10-42acad230a0d",
   "metadata": {},
   "outputs": [],
   "source": [
    "add = lambda x, y: x + y"
   ]
  },
  {
   "cell_type": "code",
   "execution_count": 30,
   "id": "fa26cfcf-4600-4f70-b120-78d62f1e6d4f",
   "metadata": {},
   "outputs": [],
   "source": [
    "numbers = [1, 2, 3, 4, 5]"
   ]
  },
  {
   "cell_type": "code",
   "execution_count": 31,
   "id": "e5fe31c8-aaf4-4ff9-bb55-36580135bfa1",
   "metadata": {},
   "outputs": [],
   "source": [
    "result = reduce(add, numbers)"
   ]
  },
  {
   "cell_type": "code",
   "execution_count": 32,
   "id": "22394778-0eff-4fd5-a51e-ca04a738d912",
   "metadata": {},
   "outputs": [
    {
     "name": "stdout",
     "output_type": "stream",
     "text": [
      "15\n"
     ]
    }
   ],
   "source": [
    "print(result)"
   ]
  },
  {
   "cell_type": "markdown",
   "id": "15cf5dff-79c0-458b-81de-9dbec4d880d6",
   "metadata": {},
   "source": [
    "# reduce() Practice Questions"
   ]
  },
  {
   "cell_type": "markdown",
   "id": "3a58fdee-cfa6-4cf8-98d7-2529e99372bd",
   "metadata": {},
   "source": [
    "1. Sum of all numbers Use reduce() to calculate the sum of the numbers in the list [1, 2, 3, 4, 5].\n",
    "\n",
    "2. Find the product Use reduce() to find the product of all numbers in the list [1, 2, 3, 4, 5].\n",
    "\n",
    "3. Concatenate strings Given a list of strings ['Python', 'is', 'fun'], use reduce() to concatenate them into a single string: \"Pythonisfun\".\n",
    "\n",
    "4. Find the maximum value Use reduce() to find the maximum value in the list [10, 5, 20, 15].\n",
    "\n",
    "5. Calculate the factorial Use reduce() to calculate the factorial of 5."
   ]
  },
  {
   "cell_type": "markdown",
   "id": "5d1371d1-ba2b-41fb-bd73-998f21a76d28",
   "metadata": {},
   "source": [
    "# combination of filter(), map() and reduce()"
   ]
  },
  {
   "cell_type": "markdown",
   "id": "ef6072e4-2842-49a4-b53b-d464c7237b5f",
   "metadata": {},
   "source": [
    "1. Filter and Map\n",
    "\n",
    "    Filter even numbers from the list [1, 2, 3, 4, 5, 6], then double them using map().\n",
    "\n",
    "2. Map and Reduce\n",
    "\n",
    "    Square all numbers in [1, 2, 3, 4] using map(), then use reduce() to sum them up.\n",
    "\n",
    "3. Filter, Map, and Reduce\n",
    "\n",
    "    From the list [1, 2, 3, 4, 5, 6, 7, 8, 9, 10], filter numbers greater than 5, double them using map(), and calculate their sum using reduce().\n",
    "\n",
    "4. Capitalize, Filter and Map\n",
    "\n",
    "    Given a list of names ['alice', 'bob', 'clara', 'andrew'], capitalize all names using map() and filter those that start with 'A'.\n"
   ]
  },
  {
   "cell_type": "code",
   "execution_count": null,
   "id": "29e2ad4e-6985-481b-8858-f47769b4c2e9",
   "metadata": {},
   "outputs": [],
   "source": []
  }
 ],
 "metadata": {
  "kernelspec": {
   "display_name": "Python 3 (ipykernel)",
   "language": "python",
   "name": "python3"
  },
  "language_info": {
   "codemirror_mode": {
    "name": "ipython",
    "version": 3
   },
   "file_extension": ".py",
   "mimetype": "text/x-python",
   "name": "python",
   "nbconvert_exporter": "python",
   "pygments_lexer": "ipython3",
   "version": "3.11.3"
  }
 },
 "nbformat": 4,
 "nbformat_minor": 5
}
