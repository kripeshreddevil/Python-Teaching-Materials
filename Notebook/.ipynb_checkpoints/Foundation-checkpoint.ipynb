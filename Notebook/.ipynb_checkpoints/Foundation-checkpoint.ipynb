{
 "cells": [
  {
   "cell_type": "code",
   "execution_count": 1,
   "id": "24fafa20-87f7-4de9-93d2-aaebcc8096d7",
   "metadata": {},
   "outputs": [
    {
     "name": "stdout",
     "output_type": "stream",
     "text": [
      "Hello\n"
     ]
    }
   ],
   "source": [
    "# This is a python print function that is used to print something on the screen\n",
    "print (\"Hello\")"
   ]
  },
  {
   "cell_type": "code",
   "execution_count": 3,
   "id": "33ba5e5b-992a-440a-8f61-fabb8a78ab4e",
   "metadata": {},
   "outputs": [
    {
     "name": "stdout",
     "output_type": "stream",
     "text": [
      "<class 'int'>\n"
     ]
    }
   ],
   "source": [
    "daily_steps = 10000 \n",
    "print(type(daily_steps))\n"
   ]
  },
  {
   "cell_type": "code",
   "execution_count": 4,
   "id": "61550398-a278-4e7b-9642-a5cd23a824df",
   "metadata": {},
   "outputs": [
    {
     "name": "stdout",
     "output_type": "stream",
     "text": [
      "<class 'float'>\n"
     ]
    }
   ],
   "source": [
    "weight = 72.5 \n",
    "# this variable is storing a floating-point number \n",
    "print(type(weight))"
   ]
  },
  {
   "cell_type": "code",
   "execution_count": 5,
   "id": "5a1f19a6-e910-40ac-a46d-164095fdcaa4",
   "metadata": {},
   "outputs": [
    {
     "name": "stdout",
     "output_type": "stream",
     "text": [
      "<class 'str'>\n"
     ]
    }
   ],
   "source": [
    "first_name = \"Ram\"\n",
    "print (type(first_name))"
   ]
  },
  {
   "cell_type": "code",
   "execution_count": 12,
   "id": "eb294cc2-8549-44ea-a431-72a1ae748532",
   "metadata": {},
   "outputs": [
    {
     "name": "stdout",
     "output_type": "stream",
     "text": [
      "2.0\n"
     ]
    }
   ],
   "source": [
    "result = 5.0 // 2 # float division \n",
    "print(result) \n"
   ]
  },
  {
   "cell_type": "code",
   "execution_count": 16,
   "id": "5b7433c8-78e4-451e-93f7-9b463dd51699",
   "metadata": {},
   "outputs": [
    {
     "name": "stdout",
     "output_type": "stream",
     "text": [
      "5\n"
     ]
    }
   ],
   "source": [
    "x = 125  # int\n",
    "y = 10  # float\n",
    "print(x % y) \n"
   ]
  },
  {
   "cell_type": "code",
   "execution_count": null,
   "id": "429d93ac-bd36-474d-b191-2904c11d0669",
   "metadata": {},
   "outputs": [],
   "source": []
  }
 ],
 "metadata": {
  "kernelspec": {
   "display_name": "Python 3 (ipykernel)",
   "language": "python",
   "name": "python3"
  },
  "language_info": {
   "codemirror_mode": {
    "name": "ipython",
    "version": 3
   },
   "file_extension": ".py",
   "mimetype": "text/x-python",
   "name": "python",
   "nbconvert_exporter": "python",
   "pygments_lexer": "ipython3",
   "version": "3.11.3"
  }
 },
 "nbformat": 4,
 "nbformat_minor": 5
}
