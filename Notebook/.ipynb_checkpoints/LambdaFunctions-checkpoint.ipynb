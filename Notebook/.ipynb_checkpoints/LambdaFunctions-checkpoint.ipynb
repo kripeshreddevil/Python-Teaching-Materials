{
 "cells": [
  {
   "cell_type": "markdown",
   "id": "e7ce2ae4-3566-4f75-ab70-4f35d14dd267",
   "metadata": {},
   "source": [
    "# Lambda Functions - An alternative way to create functions"
   ]
  },
  {
   "cell_type": "code",
   "execution_count": 1,
   "id": "d17e4ee9-34f5-4b31-96b9-0fea8f0174fd",
   "metadata": {},
   "outputs": [
    {
     "data": {
      "text/plain": [
       "<function __main__.<lambda>(argument)>"
      ]
     },
     "execution_count": 1,
     "metadata": {},
     "output_type": "execute_result"
    }
   ],
   "source": [
    "# A lambda function can be described as an anonymous function and a function that is essentially defined without a name.\n",
    "# We create a normal function using the def keyword while an anonymous function can be created using the lambda keyword.\n",
    "\n",
    "#syntax:\n",
    "lambda argument: expression"
   ]
  },
  {
   "cell_type": "code",
   "execution_count": 6,
   "id": "42dd4607-837f-48f4-9ac0-b02d0b91e25e",
   "metadata": {},
   "outputs": [
    {
     "data": {
      "text/plain": [
       "<function __main__.<lambda>(num)>"
      ]
     },
     "execution_count": 6,
     "metadata": {},
     "output_type": "execute_result"
    }
   ],
   "source": [
    "lambda num:num*2\n",
    "\n",
    "#While executing this as it stands, it says it is a function defined in the main program, its a lamba function containing paeameter num"
   ]
  },
  {
   "cell_type": "code",
   "execution_count": 7,
   "id": "c9b9503f-ea2c-4bf2-b4f3-da821d5bdf09",
   "metadata": {},
   "outputs": [],
   "source": [
    "# In order to use a  lambda function, we can assign it to a variable.\n",
    "\n",
    "double = lambda num:num*2\n"
   ]
  },
  {
   "cell_type": "code",
   "execution_count": 8,
   "id": "51ec174d-30e4-4200-88f7-21100e7f0bf8",
   "metadata": {},
   "outputs": [
    {
     "data": {
      "text/plain": [
       "10"
      ]
     },
     "execution_count": 8,
     "metadata": {},
     "output_type": "execute_result"
    }
   ],
   "source": [
    "double (5)"
   ]
  },
  {
   "cell_type": "markdown",
   "id": "530cddf6-b22a-49c4-82a4-79453907f5a1",
   "metadata": {},
   "source": [
    "# It is the same as the following:"
   ]
  },
  {
   "cell_type": "code",
   "execution_count": 9,
   "id": "b55adeff-ea2c-45da-9357-7a10d0ab6a6d",
   "metadata": {},
   "outputs": [],
   "source": [
    "def double_func (num):\n",
    "    return num * 2"
   ]
  },
  {
   "cell_type": "code",
   "execution_count": 10,
   "id": "adde8f53-6a5f-4c9a-9f69-73c83ce5349d",
   "metadata": {},
   "outputs": [
    {
     "data": {
      "text/plain": [
       "10"
      ]
     },
     "execution_count": 10,
     "metadata": {},
     "output_type": "execute_result"
    }
   ],
   "source": [
    "double_func(5)"
   ]
  },
  {
   "cell_type": "markdown",
   "id": "0f99f009-b57a-481b-a069-5bfbb40dd738",
   "metadata": {},
   "source": [
    "# Why do we use this lambda function then?\n",
    "\n",
    "We use this lamda function when we require a nameless function for a short period of time. \n",
    "\n",
    "We use it as an argument to what is known as higher order function which in simple terms is a function that takes other function as an arguments"
   ]
  },
  {
   "cell_type": "code",
   "execution_count": 11,
   "id": "87863df7-79d6-479a-8adb-15e914d72b11",
   "metadata": {},
   "outputs": [],
   "source": [
    "multi = lambda a,b : a * b"
   ]
  },
  {
   "cell_type": "code",
   "execution_count": 12,
   "id": "c838accf-0ffc-4642-b9da-cd0efd1dba92",
   "metadata": {},
   "outputs": [
    {
     "data": {
      "text/plain": [
       "20"
      ]
     },
     "execution_count": 12,
     "metadata": {},
     "output_type": "execute_result"
    }
   ],
   "source": [
    "multi (5, 4)"
   ]
  },
  {
   "cell_type": "code",
   "execution_count": 13,
   "id": "4da2620f-be54-4072-a449-e60a635f7d88",
   "metadata": {},
   "outputs": [
    {
     "ename": "TypeError",
     "evalue": "<lambda>() missing 1 required positional argument: 'b'",
     "output_type": "error",
     "traceback": [
      "\u001b[1;31m---------------------------------------------------------------------------\u001b[0m",
      "\u001b[1;31mTypeError\u001b[0m                                 Traceback (most recent call last)",
      "Cell \u001b[1;32mIn[13], line 1\u001b[0m\n\u001b[1;32m----> 1\u001b[0m multi (\u001b[38;5;241m5\u001b[39m)\n",
      "\u001b[1;31mTypeError\u001b[0m: <lambda>() missing 1 required positional argument: 'b'"
     ]
    }
   ],
   "source": [
    "multi (5)\n",
    "# will throw an error like normal functions."
   ]
  },
  {
   "cell_type": "markdown",
   "id": "46b48aa4-d86e-497e-be8e-77281e97383a",
   "metadata": {},
   "source": [
    "# Practice questions:"
   ]
  },
  {
   "cell_type": "markdown",
   "id": "4d9af850-ad75-45a2-a127-1a52e14ea851",
   "metadata": {},
   "source": [
    "1. Square a number Write a lambda function to calculate the square of a number.\n",
    "Example: square = lambda x: x ** 2, then print(square(5)) should output 25.\n",
    "\n",
    "2. Check for even or odd Write a lambda function to check whether a given number is even or odd.\n",
    "Example: even_or_odd = lambda x: 'Even' if x % 2 == 0 else 'Odd'\n",
    "\n",
    "3. Find the maximum of two numbers Write a lambda function that takes two arguments and returns the maximum.\n",
    "Example: max_num = lambda x, y: x if x > y else y\n",
    "\n",
    "4. Sort a list of tuples You have a list of tuples: students = [('Alice', 85), ('Bob', 75), ('Clara', 95)].\n",
    "Use a lambda function to sort the list by the second element (the scores).\n",
    "\n",
    "5. Create a function with multiple conditions Write a lambda function to check if a number is divisible by both 3 and 5.\n",
    "Example: divisible = lambda x: x % 3 == 0 and x % 5 == 0"
   ]
  }
 ],
 "metadata": {
  "kernelspec": {
   "display_name": "Python 3 (ipykernel)",
   "language": "python",
   "name": "python3"
  },
  "language_info": {
   "codemirror_mode": {
    "name": "ipython",
    "version": 3
   },
   "file_extension": ".py",
   "mimetype": "text/x-python",
   "name": "python",
   "nbconvert_exporter": "python",
   "pygments_lexer": "ipython3",
   "version": "3.11.3"
  }
 },
 "nbformat": 4,
 "nbformat_minor": 5
}
