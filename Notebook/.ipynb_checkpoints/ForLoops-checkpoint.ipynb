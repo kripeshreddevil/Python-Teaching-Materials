{
 "cells": [
  {
   "cell_type": "code",
   "execution_count": 6,
   "id": "dbf13760-25ea-4eb9-ac6a-f1b8ebe82b3c",
   "metadata": {},
   "outputs": [],
   "source": [
    "#For Loop in Python is used to iterate over a sequence. Sequence like list, tuple, string"
   ]
  },
  {
   "cell_type": "code",
   "execution_count": null,
   "id": "1e238411-3a39-47c4-b2b8-e206b529582f",
   "metadata": {},
   "outputs": [],
   "source": [
    "#We start as the name suggests with the keyword 'for'. \n",
    "#We place then the variable name of choice that will store the value of each element that is contained in the sequence on each iteration."
   ]
  },
  {
   "cell_type": "code",
   "execution_count": 8,
   "id": "4721f20c-2714-47b6-868d-ceac54860119",
   "metadata": {},
   "outputs": [
    {
     "name": "stdout",
     "output_type": "stream",
     "text": [
      "1\n",
      "3\n",
      "5\n",
      "6\n",
      "11\n"
     ]
    }
   ],
   "source": [
    "#It will first store the first element in the sequence which is list, inside the variable called element. \n",
    "#Then it will execute the code block after the colon. Now, when the code has finished running, the for loop automatically runs again.\n",
    "#This time taking the second item and storing it in the variable name that we have used in the for loop called element.\n",
    "#It then takes the third element and runs the code and so on until all the elements in the sequence has been iterated over.\n",
    "#When the last element is iterated over, the for loop will stop.\n",
    "\n",
    "#Example:\n",
    "\n",
    "for element in [1,3,5,6,11]:\n",
    "    print (element)\n",
    "    "
   ]
  },
  {
   "cell_type": "code",
   "execution_count": null,
   "id": "08b2920b-4297-4d9b-9dd2-a49e15ac7092",
   "metadata": {},
   "outputs": [],
   "source": [
    "activities = [\"singing\", \"dancing\", \"eating\",\"reading\"]\n",
    "for activity in activities:\n",
    "    print(f'I like {activity}')"
   ]
  },
  {
   "cell_type": "code",
   "execution_count": 75,
   "id": "dfe02134-854a-40ca-a18b-a1c81aa208b3",
   "metadata": {},
   "outputs": [
    {
     "name": "stdout",
     "output_type": "stream",
     "text": [
      "I like singing\n",
      "I like dancing\n",
      "I like eating\n",
      "I like reading\n"
     ]
    }
   ],
   "source": [
    "activities = [\"singing\", \"dancing\", \"eating\",\"reading\"]\n",
    "for activity in range (len(activities)):\n",
    "    print(f'I like {activities[activity]}')"
   ]
  },
  {
   "cell_type": "code",
   "execution_count": 2,
   "id": "3bc659c5-37a0-4449-acae-02352f1b4df7",
   "metadata": {},
   "outputs": [
    {
     "name": "stdout",
     "output_type": "stream",
     "text": [
      "The total number of 'o' in the string is  4\n"
     ]
    }
   ],
   "source": [
    "my_str = \"This is all about a topic of Python\"\n",
    "count = 0\n",
    "for my_char in my_str:\n",
    "    if my_char == 'o':\n",
    "        count +=1\n",
    "print(\"The total number of 'o' in the string is \", count)\n"
   ]
  },
  {
   "cell_type": "code",
   "execution_count": 38,
   "id": "a2620651-a3e1-4f2b-ba94-e308e077ca95",
   "metadata": {},
   "outputs": [
    {
     "name": "stdout",
     "output_type": "stream",
     "text": [
      "The total is: 25\n"
     ]
    }
   ],
   "source": [
    "#Sum of first 10 even numbers\n",
    "total = 0\n",
    "for num in range(1,11,2):\n",
    "    total = total + num\n",
    "print(\"The total is:\", total)"
   ]
  },
  {
   "cell_type": "code",
   "execution_count": 4,
   "id": "d6f66b6d-2899-45e2-b968-3d2e6d96af8a",
   "metadata": {},
   "outputs": [],
   "source": [
    "#FizzBuzz"
   ]
  },
  {
   "cell_type": "code",
   "execution_count": 16,
   "id": "e3496e6c-92a7-43e5-a58d-6d3a2371329a",
   "metadata": {},
   "outputs": [
    {
     "name": "stdout",
     "output_type": "stream",
     "text": [
      "1\n",
      "2\n",
      "3 -> Fizz\n",
      "4\n",
      "5 -> Buzz\n",
      "6 -> Fizz\n",
      "7\n",
      "8\n",
      "9 -> Fizz\n",
      "10 -> Buzz\n",
      "11\n",
      "12 -> Fizz\n",
      "13\n",
      "14\n",
      "15 -> Fizz Buzz\n",
      "16\n",
      "17\n",
      "18 -> Fizz\n",
      "19\n",
      "20 -> Buzz\n",
      "21 -> Fizz\n",
      "22\n",
      "23\n",
      "24 -> Fizz\n",
      "25 -> Buzz\n",
      "26\n",
      "27 -> Fizz\n",
      "28\n",
      "29\n",
      "30 -> Fizz Buzz\n",
      "31\n",
      "32\n",
      "33 -> Fizz\n",
      "34\n",
      "35 -> Buzz\n",
      "36 -> Fizz\n",
      "37\n",
      "38\n",
      "39 -> Fizz\n",
      "40 -> Buzz\n",
      "41\n",
      "42 -> Fizz\n",
      "43\n",
      "44\n",
      "45 -> Fizz Buzz\n",
      "46\n",
      "47\n",
      "48 -> Fizz\n",
      "49\n",
      "50 -> Buzz\n",
      "51 -> Fizz\n",
      "52\n",
      "53\n",
      "54 -> Fizz\n",
      "55 -> Buzz\n",
      "56\n",
      "57 -> Fizz\n",
      "58\n",
      "59\n",
      "60 -> Fizz Buzz\n",
      "61\n",
      "62\n",
      "63 -> Fizz\n",
      "64\n",
      "65 -> Buzz\n",
      "66 -> Fizz\n",
      "67\n",
      "68\n",
      "69 -> Fizz\n",
      "70 -> Buzz\n",
      "71\n",
      "72 -> Fizz\n",
      "73\n",
      "74\n",
      "75 -> Fizz Buzz\n",
      "76\n",
      "77\n",
      "78 -> Fizz\n",
      "79\n",
      "80 -> Buzz\n",
      "81 -> Fizz\n",
      "82\n",
      "83\n",
      "84 -> Fizz\n",
      "85 -> Buzz\n",
      "86\n",
      "87 -> Fizz\n",
      "88\n",
      "89\n",
      "90 -> Fizz Buzz\n",
      "91\n",
      "92\n",
      "93 -> Fizz\n",
      "94\n",
      "95 -> Buzz\n",
      "96 -> Fizz\n",
      "97\n",
      "98\n",
      "99 -> Fizz\n"
     ]
    }
   ],
   "source": [
    "for check in range (1,100):\n",
    "    if check % 3 == 0 and check % 5 == 0:\n",
    "        print(f'{check} -> Fizz Buzz')\n",
    "    elif check % 5 == 0:\n",
    "        print(f'{check} -> Buzz')\n",
    "    elif check % 3 == 0:\n",
    "        print(f'{check} -> Fizz')\n",
    "    else:\n",
    "        print(check)"
   ]
  },
  {
   "cell_type": "code",
   "execution_count": 12,
   "id": "fcc2e5c0-dba7-44a2-a3d8-82cd73d57491",
   "metadata": {},
   "outputs": [
    {
     "name": "stdout",
     "output_type": "stream",
     "text": [
      "10\n",
      "22\n",
      "3\n",
      "Found the CR's roll number\n"
     ]
    }
   ],
   "source": [
    "#Break statement in for loop\n",
    "for i in [10,22,3,5,6,11]:\n",
    "    if i == 5:\n",
    "        print(\"Found the CR's roll number\")\n",
    "        break\n",
    "    print(i)"
   ]
  },
  {
   "cell_type": "code",
   "execution_count": 16,
   "id": "ae74afda-030b-4250-8144-9972a57d2f87",
   "metadata": {},
   "outputs": [
    {
     "name": "stdout",
     "output_type": "stream",
     "text": [
      "11 is called at office.\n"
     ]
    }
   ],
   "source": [
    "#continue statement in for loop\n",
    "# Skipping a specific condition\n",
    "for i in [10,22,3,5,6,11]:\n",
    "    if i == 5:\n",
    "        continue  # Skip 5\n",
    "print(f'{i} is called at office.')\n"
   ]
  },
  {
   "cell_type": "code",
   "execution_count": 26,
   "id": "8b66f929-dfe7-44de-a7f4-60641f8053e9",
   "metadata": {},
   "outputs": [],
   "source": [
    "# Printing a multiplication table\n",
    "for i in range(1, 4):  # Outer loop\n",
    "    for j in range(1, 4):  # Inner loop\n",
    "        print(f\"{i} x {j} = {i*j}\")\n",
    "    print(\"-----\")\n"
   ]
  },
  {
   "cell_type": "code",
   "execution_count": 30,
   "id": "2b3e5e84-db09-4775-915f-be7a3bf93a17",
   "metadata": {},
   "outputs": [],
   "source": [
    "# Multiplication table of 5\n",
    "print(\"Multiplication Table of 5:\")\n",
    "\n",
    "for i in range(1, 11):  # Loop from 1 to 10\n",
    "    print(f\"5 x {i} = {5 * i}\")\n"
   ]
  },
  {
   "cell_type": "code",
   "execution_count": 44,
   "id": "f5bff208-dd02-48e3-95d4-51c7bccb253f",
   "metadata": {},
   "outputs": [
    {
     "name": "stdout",
     "output_type": "stream",
     "text": [
      "Multiplication Tables from 1 to 5:\n",
      "\n",
      "Multiplication Table of 1:\n",
      "1 x 1 = 1\n",
      "1 x 2 = 2\n",
      "1 x 3 = 3\n",
      "1 x 4 = 4\n",
      "1 x 5 = 5\n",
      "1 x 6 = 6\n",
      "1 x 7 = 7\n",
      "1 x 8 = 8\n",
      "1 x 9 = 9\n",
      "1 x 10 = 10\n",
      "\n",
      "Multiplication Table of 2:\n",
      "2 x 1 = 2\n",
      "2 x 2 = 4\n",
      "2 x 3 = 6\n",
      "2 x 4 = 8\n",
      "2 x 5 = 10\n",
      "2 x 6 = 12\n",
      "2 x 7 = 14\n",
      "2 x 8 = 16\n",
      "2 x 9 = 18\n",
      "2 x 10 = 20\n",
      "\n",
      "Multiplication Table of 3:\n",
      "3 x 1 = 3\n",
      "3 x 2 = 6\n",
      "3 x 3 = 9\n",
      "3 x 4 = 12\n",
      "3 x 5 = 15\n",
      "3 x 6 = 18\n",
      "3 x 7 = 21\n",
      "3 x 8 = 24\n",
      "3 x 9 = 27\n",
      "3 x 10 = 30\n",
      "\n",
      "Multiplication Table of 4:\n",
      "4 x 1 = 4\n",
      "4 x 2 = 8\n",
      "4 x 3 = 12\n",
      "4 x 4 = 16\n",
      "4 x 5 = 20\n",
      "4 x 6 = 24\n",
      "4 x 7 = 28\n",
      "4 x 8 = 32\n",
      "4 x 9 = 36\n",
      "4 x 10 = 40\n",
      "\n",
      "Multiplication Table of 5:\n",
      "5 x 1 = 5\n",
      "5 x 2 = 10\n",
      "5 x 3 = 15\n",
      "5 x 4 = 20\n",
      "5 x 5 = 25\n",
      "5 x 6 = 30\n",
      "5 x 7 = 35\n",
      "5 x 8 = 40\n",
      "5 x 9 = 45\n",
      "5 x 10 = 50\n",
      "Something\n"
     ]
    }
   ],
   "source": [
    "# Printing multiplication tables from 1 to 5\n",
    "print(\"Multiplication Tables from 1 to 5:\")\n",
    "\n",
    "for num in range(1, 6):  # Loop through numbers 1 to 5\n",
    "    print(f\"\\nMultiplication Table of {num}:\")\n",
    "    for i in range(1, 11):  # Inner loop for multiplication from 1 to 10\n",
    "        print(f\"{num} x {i} = {num * i}\")\n"
   ]
  },
  {
   "cell_type": "code",
   "execution_count": 34,
   "id": "9d710b87-4593-414d-bd94-38dcf5c4ca7a",
   "metadata": {},
   "outputs": [],
   "source": [
    "# Printing multiplication tables from 1 to 10\n",
    "print(\"Multiplication Tables of odd numbers from 1 to 10:\")\n",
    "\n",
    "for num in range(1, 10, 2):  # Loop through numbers 1 to 10\n",
    "    print(f\"\\nMultiplication Table of {num}:\")\n",
    "    for i in range(1, 11):  # Inner loop for multiplication from 1 to 10\n",
    "        print(f\"{num} x {i} = {num * i}\")\n"
   ]
  },
  {
   "cell_type": "code",
   "execution_count": null,
   "id": "6ba8e418-97e5-403e-835d-21a9b6ebc077",
   "metadata": {},
   "outputs": [],
   "source": []
  }
 ],
 "metadata": {
  "kernelspec": {
   "display_name": "Python 3 (ipykernel)",
   "language": "python",
   "name": "python3"
  },
  "language_info": {
   "codemirror_mode": {
    "name": "ipython",
    "version": 3
   },
   "file_extension": ".py",
   "mimetype": "text/x-python",
   "name": "python",
   "nbconvert_exporter": "python",
   "pygments_lexer": "ipython3",
   "version": "3.11.3"
  }
 },
 "nbformat": 4,
 "nbformat_minor": 5
}
