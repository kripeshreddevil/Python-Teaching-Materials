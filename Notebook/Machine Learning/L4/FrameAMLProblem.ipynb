{
 "cells": [
  {
   "cell_type": "markdown",
   "id": "ad2c7b04-58c4-48be-a38f-3af26cfbfc36",
   "metadata": {},
   "source": [
    "# Framing the Problem\n",
    "    If you are given a business problem, how can it be converted into a ML problem and Solve it."
   ]
  },
  {
   "cell_type": "markdown",
   "id": "a85b17d4-a20b-46fa-acb4-67b46f3aee7d",
   "metadata": {},
   "source": [
    "# Step 1 Business Problem to ML Problem\n",
    "    Real life example: Increasing revenue of Netflix.\n",
    "     One Solution - Reducing the churn rate.\n",
    "\n",
    "    So, Business problem - increase revenue\n",
    "    Our work is to reduce the churn rate, not to increase the revenue and not to find the churn rate either."
   ]
  },
  {
   "cell_type": "markdown",
   "id": "779c246e-1f84-4eda-8755-deba32e936a0",
   "metadata": {},
   "source": [
    "# Step 2 Type of Problem\n",
    "    Is it supervised or unsupervised, if supervised regression or classification\n",
    "    Looking at a big picture\n",
    "        So, to reduce the churn rate, the job is to find the customer who are leaving the platform\n",
    "\n",
    "        Immediate plan of action can be offering instant discount for the customers who are leaving the platform\n",
    "\n",
    "        So, we can call it as a classification problem where our work is to identify whether the customer are leaving the platform or not.\n",
    "\n",
    "        But, Now another question arises:\n",
    "            Not everyone has the same interest to leave the platform. So, we have to find the what is the sentiment with the customer is leaving / what is the probability the customer is leaving the platform.\n",
    "            So, Actually, it is a regression problem"
   ]
  },
  {
   "cell_type": "markdown",
   "id": "aa63c49c-470c-4e7c-91f3-145e118a7209",
   "metadata": {},
   "source": [
    "# Step 3 Current Solution\n",
    "    What are the current solutions available?\n",
    "    In the current solutions, What are the factors considered to find the churn rate?"
   ]
  },
  {
   "cell_type": "markdown",
   "id": "8017e7f5-cd0c-43f4-85c8-21868a214a37",
   "metadata": {},
   "source": [
    "# Step 4 Getting Data\n",
    "    We should find what kind of data we need, what columns do we need.\n",
    "    Suppose if we have to find the probabilty that a customer might be leaving the platform. Then, we have to consider the following:\n",
    "    Example:\n",
    "        watch time\n",
    "        search but did not find\n",
    "        content left in the middle\n",
    "        clicked on recommendations.\n",
    "\n",
    "        For that, we can ask a data engineer for a data, who can give you a data warehouse from an OLTP"
   ]
  },
  {
   "cell_type": "markdown",
   "id": "92437ec0-8dca-4f21-b440-d4cffd961978",
   "metadata": {},
   "source": [
    "# Step 5 Metrics to Measure\n",
    "\n",
    "    For eg: are the number of customer leaving the platform varies from your prediction of churn rate?\n",
    "            are the same customer leaving or not?"
   ]
  },
  {
   "cell_type": "markdown",
   "id": "3b8ff2e1-3bab-48b6-aeb0-5d97dc24ff1c",
   "metadata": {},
   "source": [
    "# Step 6 Online vs Batch?\n",
    "    Maybe we can prefer online for volatile changes"
   ]
  },
  {
   "cell_type": "markdown",
   "id": "1377d703-b18e-4632-94e4-c1aac47f3e67",
   "metadata": {},
   "source": [
    "# Step 7 Check Assumptions\n",
    "    1. The features we have decide are really available or not?\n",
    "    2. Does the same model will work for every geographical locations or other factors"
   ]
  }
 ],
 "metadata": {
  "kernelspec": {
   "display_name": "Python 3 (ipykernel)",
   "language": "python",
   "name": "python3"
  },
  "language_info": {
   "codemirror_mode": {
    "name": "ipython",
    "version": 3
   },
   "file_extension": ".py",
   "mimetype": "text/x-python",
   "name": "python",
   "nbconvert_exporter": "python",
   "pygments_lexer": "ipython3",
   "version": "3.11.3"
  }
 },
 "nbformat": 4,
 "nbformat_minor": 5
}
