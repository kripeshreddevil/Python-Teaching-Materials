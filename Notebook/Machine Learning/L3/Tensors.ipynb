{
 "cells": [
  {
   "cell_type": "markdown",
   "id": "5a5eee3d-a578-40c4-912b-29e8b0d4009c",
   "metadata": {},
   "source": [
    "# What are Tensors?\n",
    "\n",
    "    Basically a data structure in simplest terms.\n",
    "    The most popular libraries used in ML, the data structure they use is tensor.\n",
    "    More breakdown - A container for numbers \n",
    "\n",
    "    We might have used Scalar, Vectors, Matrix and so on.. So, we already have used tensor."
   ]
  },
  {
   "cell_type": "markdown",
   "id": "5554b080-3700-43e3-ba36-583d9e8099d4",
   "metadata": {},
   "source": [
    "# 0D Tensors"
   ]
  },
  {
   "cell_type": "markdown",
   "id": "da2a5256-16bd-4094-8067-f72852774ec4",
   "metadata": {},
   "source": [
    "0D Tensors are called scalars. If we are storing a single number, it is called scalar.\n",
    "The number of dimension of this tensor is 0.\n",
    "\n",
    "Eg: (0) , (1), etc..."
   ]
  },
  {
   "cell_type": "code",
   "execution_count": 1,
   "id": "f4a8e0f4-6833-4ebc-9b66-5cb8d1c05122",
   "metadata": {},
   "outputs": [],
   "source": [
    "import numpy as np"
   ]
  },
  {
   "cell_type": "code",
   "execution_count": 2,
   "id": "834a15c6-9603-4020-8826-49fe000b661d",
   "metadata": {},
   "outputs": [],
   "source": [
    "x = np.array(4)"
   ]
  },
  {
   "cell_type": "code",
   "execution_count": 3,
   "id": "c1a06002-6e1b-4856-a381-33709431894a",
   "metadata": {},
   "outputs": [
    {
     "data": {
      "text/plain": [
       "array(4)"
      ]
     },
     "execution_count": 3,
     "metadata": {},
     "output_type": "execute_result"
    }
   ],
   "source": [
    "x"
   ]
  },
  {
   "cell_type": "code",
   "execution_count": 4,
   "id": "cef065a4-4030-4feb-80c7-0f6524561e27",
   "metadata": {},
   "outputs": [
    {
     "data": {
      "text/plain": [
       "0"
      ]
     },
     "execution_count": 4,
     "metadata": {},
     "output_type": "execute_result"
    }
   ],
   "source": [
    "x.ndim"
   ]
  },
  {
   "cell_type": "markdown",
   "id": "12c40860-7ebb-4807-af04-4ce8d846bcc3",
   "metadata": {},
   "source": [
    "# 1D Tensors\n",
    "    If we have a list of numbers for eg: [1, 2, 3, 4], etc. It is called 1D Tensor.\n",
    "    Also called vector.\n",
    "    Or, 1D Array or Array"
   ]
  },
  {
   "cell_type": "markdown",
   "id": "2e469499-d41c-4cdf-915f-0e98265d0549",
   "metadata": {},
   "source": [
    "# Note : Axis = rank = dimension of the tensor"
   ]
  },
  {
   "cell_type": "code",
   "execution_count": 5,
   "id": "4eacb163-c36d-4372-aae8-83c164f9fa87",
   "metadata": {},
   "outputs": [],
   "source": [
    "import numpy as np"
   ]
  },
  {
   "cell_type": "code",
   "execution_count": 6,
   "id": "550912f7-cff9-46db-a2b0-89a8e11de2fc",
   "metadata": {},
   "outputs": [],
   "source": [
    "arr = np.array([1,2,3,4])"
   ]
  },
  {
   "cell_type": "code",
   "execution_count": 7,
   "id": "cf33e68d-7fba-4ead-b5e7-fa4e7dfc11b7",
   "metadata": {},
   "outputs": [
    {
     "data": {
      "text/plain": [
       "array([1, 2, 3, 4])"
      ]
     },
     "execution_count": 7,
     "metadata": {},
     "output_type": "execute_result"
    }
   ],
   "source": [
    "arr"
   ]
  },
  {
   "cell_type": "code",
   "execution_count": 8,
   "id": "410eb7e3-e644-41db-ad8d-e00f6aa33da7",
   "metadata": {},
   "outputs": [
    {
     "data": {
      "text/plain": [
       "1"
      ]
     },
     "execution_count": 8,
     "metadata": {},
     "output_type": "execute_result"
    }
   ],
   "source": [
    "arr.ndim"
   ]
  },
  {
   "cell_type": "markdown",
   "id": "2db7619f-a671-41c8-92aa-eb59899932ca",
   "metadata": {},
   "source": [
    "     1D Tensor is also called vector. Suppose we have a 1D tensor as [1,2,3,4], It is called a vector but the dimension of this vector is 4."
   ]
  },
  {
   "cell_type": "markdown",
   "id": "9324c3d2-bf67-4f35-837c-98742fa9a0e2",
   "metadata": {},
   "source": [
    "    If we add 1 scalar with another, it becomes a vector. i,e. Vector is a collection of scalar. 1D Tensor is a collection of 0D Tensors, and so on.."
   ]
  },
  {
   "cell_type": "markdown",
   "id": "2b36c625-89bd-4109-ad61-a4432bb745ec",
   "metadata": {},
   "source": [
    "# 2D Tensors"
   ]
  },
  {
   "cell_type": "markdown",
   "id": "75d7ea65-07e0-4bee-b854-7c71925e19b7",
   "metadata": {},
   "source": [
    "    Also known as matrices.\n",
    "\n",
    "    Suppose if we have these vectors eg: [1,2,3] [4,5,6] [7,8,9] and if we collect these vectors, it is called matrices.\n",
    "\n",
    "    Eg:\n",
    "\n",
    "    [ [1, 2, 3]\n",
    "      [4, 5, 6]\n",
    "      [7, 8, 9] ]"
   ]
  },
  {
   "cell_type": "code",
   "execution_count": 9,
   "id": "5f764764-ca5e-4adf-9a33-708f5de66866",
   "metadata": {},
   "outputs": [],
   "source": [
    "import numpy as np"
   ]
  },
  {
   "cell_type": "code",
   "execution_count": 11,
   "id": "2a523361-3330-4cca-9189-1121a57ccea3",
   "metadata": {},
   "outputs": [],
   "source": [
    "mat = np.array([[1,2,3],[4,5,6],[7,8,9]])"
   ]
  },
  {
   "cell_type": "code",
   "execution_count": 12,
   "id": "f8133684-e6a7-48db-b532-a07396063c7f",
   "metadata": {},
   "outputs": [
    {
     "data": {
      "text/plain": [
       "array([[1, 2, 3],\n",
       "       [4, 5, 6],\n",
       "       [7, 8, 9]])"
      ]
     },
     "execution_count": 12,
     "metadata": {},
     "output_type": "execute_result"
    }
   ],
   "source": [
    "mat"
   ]
  },
  {
   "cell_type": "code",
   "execution_count": 13,
   "id": "39105c91-8ca2-48a5-bf13-021c6700a9ab",
   "metadata": {},
   "outputs": [
    {
     "data": {
      "text/plain": [
       "2"
      ]
     },
     "execution_count": 13,
     "metadata": {},
     "output_type": "execute_result"
    }
   ],
   "source": [
    "mat.ndim"
   ]
  },
  {
   "cell_type": "markdown",
   "id": "0ab834e2-ea91-4cc2-a00e-14b096a461a3",
   "metadata": {},
   "source": [
    "# ND Tensor"
   ]
  },
  {
   "cell_type": "markdown",
   "id": "5f31de97-bfaf-4d73-9fa5-7e50689940a1",
   "metadata": {},
   "source": [
    "    Suppose, we have to create a 3D Tensor, a 3D Tensor is a collection of 2D Tensors. Similarily, 4D Tensor is a collection of 3D Tensor and so on."
   ]
  },
  {
   "cell_type": "markdown",
   "id": "d6184012-e68f-439a-aed0-b63e1cd4a97c",
   "metadata": {},
   "source": [
    "# Rank, Axes and Shape"
   ]
  },
  {
   "cell_type": "markdown",
   "id": "0a42fcd3-90a5-4d2d-af03-c18a2a6de8fb",
   "metadata": {},
   "source": [
    "    No. of Axes = Rank = No. of Dim"
   ]
  },
  {
   "cell_type": "markdown",
   "id": "46824e74-be9b-49cf-a597-50e67091b536",
   "metadata": {},
   "source": [
    "    Shape = How many items in 1 particular axes"
   ]
  },
  {
   "cell_type": "markdown",
   "id": "4ae76d3e-4a15-442a-bb4c-7b632c897476",
   "metadata": {},
   "source": [
    "    Size = Number of items in a tensor"
   ]
  },
  {
   "cell_type": "code",
   "execution_count": 14,
   "id": "76661f19-b956-49fd-9c67-4580a73a9b93",
   "metadata": {},
   "outputs": [],
   "source": [
    "mat = np.array([[1,2,3],[4,5,6],[7,8,9]])"
   ]
  },
  {
   "cell_type": "code",
   "execution_count": 15,
   "id": "29195262-f1ad-40ef-8145-48b4cb0ebe98",
   "metadata": {},
   "outputs": [
    {
     "data": {
      "text/plain": [
       "2"
      ]
     },
     "execution_count": 15,
     "metadata": {},
     "output_type": "execute_result"
    }
   ],
   "source": [
    "mat.ndim"
   ]
  },
  {
   "cell_type": "code",
   "execution_count": 16,
   "id": "ee790701-9baf-423c-badf-404431effa20",
   "metadata": {},
   "outputs": [
    {
     "data": {
      "text/plain": [
       "(3, 3)"
      ]
     },
     "execution_count": 16,
     "metadata": {},
     "output_type": "execute_result"
    }
   ],
   "source": [
    "mat.shape"
   ]
  },
  {
   "cell_type": "code",
   "execution_count": 17,
   "id": "ac693612-30c6-4f9b-8225-a87b53dd1fd0",
   "metadata": {},
   "outputs": [
    {
     "data": {
      "text/plain": [
       "9"
      ]
     },
     "execution_count": 17,
     "metadata": {},
     "output_type": "execute_result"
    }
   ],
   "source": [
    "mat.size"
   ]
  },
  {
   "cell_type": "code",
   "execution_count": null,
   "id": "ad41c0a5-b7f1-4715-bbbd-7d78a1bedc40",
   "metadata": {},
   "outputs": [],
   "source": []
  }
 ],
 "metadata": {
  "kernelspec": {
   "display_name": "Python 3 (ipykernel)",
   "language": "python",
   "name": "python3"
  },
  "language_info": {
   "codemirror_mode": {
    "name": "ipython",
    "version": 3
   },
   "file_extension": ".py",
   "mimetype": "text/x-python",
   "name": "python",
   "nbconvert_exporter": "python",
   "pygments_lexer": "ipython3",
   "version": "3.11.3"
  }
 },
 "nbformat": 4,
 "nbformat_minor": 5
}
