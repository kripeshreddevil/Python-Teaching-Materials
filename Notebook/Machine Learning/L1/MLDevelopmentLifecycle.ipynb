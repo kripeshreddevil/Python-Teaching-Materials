{
 "cells": [
  {
   "cell_type": "markdown",
   "id": "bbada96a-170b-42c6-b984-409072a31835",
   "metadata": {},
   "source": [
    "# Machine Learning Development Lifecycle\n",
    "    Set of guidelines needed to be followed when you are creating machine learning based software product"
   ]
  },
  {
   "cell_type": "markdown",
   "id": "deee725a-e6be-4e4d-8417-daf376aaeb04",
   "metadata": {},
   "source": [
    "# 1. Framing the problem\n",
    "    ML Model - Supervised, Unsupervised / Runs in Online or Batch Mode, etc\n",
    "    "
   ]
  },
  {
   "cell_type": "markdown",
   "id": "a256a86a-f6f2-494d-9aa8-11ff21ca5fbb",
   "metadata": {},
   "source": [
    "# 2. Gathering the data\n",
    "    Directly CSV files\n",
    "    Access fetch through API in JSON Format\n",
    "    Web Scraping\n",
    "    Database -> Create a data warehouse as you can't run ML models on a running database\n",
    "    Spark / Clusters"
   ]
  },
  {
   "cell_type": "markdown",
   "id": "f008dc92-6d71-402a-8a2e-6a4fa73fda07",
   "metadata": {},
   "source": [
    "# 3. Data Preprocessing\n",
    "    remove duplicates, remove missing values and outliers, scale the values"
   ]
  },
  {
   "cell_type": "markdown",
   "id": "01ef44e4-c21c-4563-978b-0d43d709fe74",
   "metadata": {},
   "source": [
    "# 4. Exploratory Data Analysis\n",
    "    Extract the relationship between input and output and findout the relationship hidden in data, experment with the data\n",
    "    plot graph, visualization, mean, S.D. in each column, univariate / bivariate / multivariate analysis\n",
    "    Outline detection\n",
    "    Imbalance dataset handling"
   ]
  },
  {
   "cell_type": "markdown",
   "id": "a0894755-af06-4993-a5b8-e0758081c433",
   "metadata": {},
   "source": [
    "# 5. Feature Engineering and Selection\n",
    "    Features - Input Columns.\n",
    "    Feature Engineering - Create new column according to your necessity like creating a new column from merging 2 column, etc.\n",
    "    Feature Selection - We don't use all columns and all columns/input doesn't impact the output. Also time is another factor."
   ]
  },
  {
   "cell_type": "markdown",
   "id": "edbc771e-2249-48d3-aaa4-ca2f80c396b2",
   "metadata": {},
   "source": [
    "# 6. Model Training, Evaluation and Selection\n",
    "    Different types of algorithm are brought, data are given and then trained. \n",
    "    Then we evaluate all models based on performance metrics. There evaluation of the different algorithm is done using evaluation / performance metrics\n",
    "    In Model Selection - We take 1 or multiple algorithms and tune their parameters - Hyperparameter tuning\n",
    "    Ensemble Learning - We take multiple ML algorithms and combine them into 1 single algorithms. There are techinques for this as bagging, boosting, etc."
   ]
  },
  {
   "cell_type": "markdown",
   "id": "5a620faa-b7a8-4518-82f7-e76fb771803f",
   "metadata": {},
   "source": [
    "# 7. Model Deployment\n",
    "    Use the model by convering it into software so that users can use them. The software can be mobile app, web app, desktop, etc. We create a file from that model generally a binary file. Tools such as pickle is used. We take this file and convert it into API. We get JSON data. We use this model and put into server.\n",
    "    "
   ]
  },
  {
   "cell_type": "markdown",
   "id": "1c6d8015-9cbd-427c-886f-91808c442586",
   "metadata": {},
   "source": [
    "# 8. Testing \n",
    "    Generally, beta testing. We get feedback from trusted customer. A/B testing is done and the working of model is decided. If everything is correct, we move into next step."
   ]
  },
  {
   "cell_type": "markdown",
   "id": "8e4700fc-bd4c-41bf-b317-f3898c8e5725",
   "metadata": {},
   "source": [
    "# 9. Optimization\n",
    "    In server, we launch our model for all. For this we back up our model and data. We set automation. Load balancing is done. We find how when our should be retrained. Everything should be automated."
   ]
  }
 ],
 "metadata": {
  "kernelspec": {
   "display_name": "Python 3 (ipykernel)",
   "language": "python",
   "name": "python3"
  },
  "language_info": {
   "codemirror_mode": {
    "name": "ipython",
    "version": 3
   },
   "file_extension": ".py",
   "mimetype": "text/x-python",
   "name": "python",
   "nbconvert_exporter": "python",
   "pygments_lexer": "ipython3",
   "version": "3.11.3"
  }
 },
 "nbformat": 4,
 "nbformat_minor": 5
}
