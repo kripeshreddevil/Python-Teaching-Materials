{
 "cells": [
  {
   "cell_type": "markdown",
   "id": "59eb8e3d-6f5b-44cc-b4df-439019122be9",
   "metadata": {},
   "source": [
    "# List Comprehension"
   ]
  },
  {
   "cell_type": "code",
   "execution_count": 2,
   "id": "923371d3-67bd-45c2-9744-0dde330de06d",
   "metadata": {},
   "outputs": [],
   "source": [
    "# A concise way to create a list by using a single line of code.\n",
    "# Syntax:\n",
    "# [expression for item in iterable if condition]\n",
    "\n",
    "squares = [x**2 for x in range(5)]  \n",
    "even_squares = [x**2 for x in range(10) if x % 2 == 0]  # [0, 4, 16, 36, 64]"
   ]
  },
  {
   "cell_type": "code",
   "execution_count": 3,
   "id": "c01d97b0-3317-4ad0-a414-9d5037bd4fee",
   "metadata": {},
   "outputs": [
    {
     "name": "stdout",
     "output_type": "stream",
     "text": [
      "[0, 1, 4, 9, 16]\n",
      "[0, 4, 16, 36, 64]\n"
     ]
    }
   ],
   "source": [
    "print (squares)\n",
    "print (even_squares)"
   ]
  },
  {
   "cell_type": "markdown",
   "id": "a12f4dc9-61fa-4d51-858f-e8a7ed7a4fcd",
   "metadata": {},
   "source": [
    "# Set Comprehension"
   ]
  },
  {
   "cell_type": "code",
   "execution_count": 5,
   "id": "5cb65b1a-d11c-4e7e-919c-83bda963c7ca",
   "metadata": {},
   "outputs": [],
   "source": [
    "#Similar to list comprehension but creates a set, which automatically removes duplicates.\n",
    "#Syntax:\n",
    "#{expression for item in iterable if condition}\n",
    "\n",
    "unique_squares = {x**2 for x in range(-5, 5)} \n"
   ]
  },
  {
   "cell_type": "code",
   "execution_count": 1,
   "id": "49c494f8-7cfd-4cdc-b1b0-31679401b4e2",
   "metadata": {},
   "outputs": [],
   "source": [
    "print (unique_squares)"
   ]
  },
  {
   "cell_type": "markdown",
   "id": "32e5b91a-399d-4dda-b132-12fc2a23efa1",
   "metadata": {},
   "source": [
    "# Dictionary Comprehension"
   ]
  },
  {
   "cell_type": "code",
   "execution_count": 8,
   "id": "71c00208-c661-4db1-866f-f22b60958137",
   "metadata": {},
   "outputs": [],
   "source": [
    "# A compact way to create dictionaries.\n",
    "# Syntax:\n",
    "# {key_expression: value_expression for item in iterable if condition}\n",
    "\n",
    "squared_dict = {x: x**2 for x in range(5)}\n",
    "even_squares_dict = {x: x**2 for x in range(10) if x % 2 == 0}\n"
   ]
  },
  {
   "cell_type": "code",
   "execution_count": 9,
   "id": "f96a6a55-fddc-468e-96eb-ccd918b58092",
   "metadata": {},
   "outputs": [
    {
     "name": "stdout",
     "output_type": "stream",
     "text": [
      "{0: 0, 1: 1, 2: 4, 3: 9, 4: 16}\n",
      "{0: 0, 2: 4, 4: 16, 6: 36, 8: 64}\n"
     ]
    }
   ],
   "source": [
    "print (squared_dict)\n",
    "print (even_squares_dict)"
   ]
  },
  {
   "cell_type": "markdown",
   "id": "48ecf946-ba50-42e7-a69a-8497416d0ebe",
   "metadata": {},
   "source": [
    "# Generator Expression"
   ]
  },
  {
   "cell_type": "code",
   "execution_count": 5,
   "id": "782d46f1-8e51-4d50-a900-74a4769bd29f",
   "metadata": {},
   "outputs": [
    {
     "name": "stdout",
     "output_type": "stream",
     "text": [
      "{0, 1, 4, 9, 16}\n"
     ]
    }
   ],
   "source": [
    "# What looks like a \"tuple comprehension\" is actually a generator expression, which lazily produces values one at a time (not stored in memory).\n",
    "# Syntax: (expression for item in iterable if condition)\n",
    "\n",
    "squares_gen = (x**2 for x in range(5))  # Generator object\n",
    "print(set(squares_gen))\n"
   ]
  },
  {
   "cell_type": "markdown",
   "id": "df060ebe-5bd7-4957-a5cb-aac4e5d63a96",
   "metadata": {},
   "source": [
    "# This is not tuple comprehension"
   ]
  },
  {
   "cell_type": "code",
   "execution_count": 17,
   "id": "ae16d9b6-29bd-4c1f-a5aa-902b498822b3",
   "metadata": {},
   "outputs": [
    {
     "name": "stdout",
     "output_type": "stream",
     "text": [
      "(0, 1, 4, 9, 16)\n"
     ]
    }
   ],
   "source": [
    "# This is not a tuple comprehension—you’re converting the generator to a tuple explicitly using tuple().\n",
    "\n",
    "squares_tuple = tuple(x**2 for x in range(5))\n",
    "print(squares_tuple)\n"
   ]
  },
  {
   "cell_type": "code",
   "execution_count": null,
   "id": "2c9dc161-9a61-4e8c-bbf8-74c575f51ccc",
   "metadata": {},
   "outputs": [],
   "source": []
  }
 ],
 "metadata": {
  "kernelspec": {
   "display_name": "Python 3 (ipykernel)",
   "language": "python",
   "name": "python3"
  },
  "language_info": {
   "codemirror_mode": {
    "name": "ipython",
    "version": 3
   },
   "file_extension": ".py",
   "mimetype": "text/x-python",
   "name": "python",
   "nbconvert_exporter": "python",
   "pygments_lexer": "ipython3",
   "version": "3.11.3"
  }
 },
 "nbformat": 4,
 "nbformat_minor": 5
}
