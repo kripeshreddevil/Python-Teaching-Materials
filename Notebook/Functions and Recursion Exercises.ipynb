{
 "cells": [
  {
   "cell_type": "markdown",
   "id": "cfb6e520-c2dc-408c-8401-70062b124a31",
   "metadata": {},
   "source": [
    "# Functions and Recursion Exercises"
   ]
  },
  {
   "cell_type": "code",
   "execution_count": 1,
   "id": "f446d5a1-8062-422e-84e3-9eb537fe1d70",
   "metadata": {},
   "outputs": [
    {
     "name": "stdout",
     "output_type": "stream",
     "text": [
      "[12]\n"
     ]
    }
   ],
   "source": [
    "# appending the return value in a list.\n",
    "\n",
    "def add(a, b):\n",
    "    my_list = []\n",
    "    my_list.append(a+b)\n",
    "    return (my_list)\n",
    "\n",
    "print(add(5,7))"
   ]
  },
  {
   "cell_type": "code",
   "execution_count": 6,
   "id": "53d59405-a4e1-409b-b8a7-a89a15c7438a",
   "metadata": {},
   "outputs": [
    {
     "data": {
      "text/plain": [
       "[1, 2, 3, 4, 5]"
      ]
     },
     "execution_count": 6,
     "metadata": {},
     "output_type": "execute_result"
    }
   ],
   "source": [
    "#Write a recursive function that appends numbers from 1 to n into a list and returns the list. Ensure the list persists across recursive calls.\n",
    "\n",
    "def append_numbers(num):\n",
    "    my_list = []\n",
    "    for i in range(1, num+1):\n",
    "        my_list.append(i)\n",
    "    return my_list\n",
    "\n",
    "append_numbers(5)"
   ]
  },
  {
   "cell_type": "code",
   "execution_count": 3,
   "id": "d59146b6-30a5-454b-a7f9-bc4757482b02",
   "metadata": {},
   "outputs": [
    {
     "name": "stdout",
     "output_type": "stream",
     "text": [
      "[5, 4, 3, 2, 1]\n"
     ]
    }
   ],
   "source": [
    "#what will be the output here?\n",
    "def add_numbers(n):\n",
    "    my_list = []\n",
    "    if n == 0:\n",
    "        return my_list\n",
    "    for i in range(1, n+1):\n",
    "        my_list.append(i)\n",
    "    my_list.reverse()\n",
    "    return my_list\n",
    "print(add_numbers(5))"
   ]
  },
  {
   "cell_type": "code",
   "execution_count": 8,
   "id": "f08b97f8-d3a9-4fb8-a35a-8eaeec7356f0",
   "metadata": {},
   "outputs": [
    {
     "name": "stdout",
     "output_type": "stream",
     "text": [
      "[5, 4, 3, 2, 1]\n"
     ]
    }
   ],
   "source": [
    "#what will be the output here?\n",
    "def add_numbers(n):\n",
    "    my_list = []\n",
    "    if n == 0:\n",
    "        return my_list\n",
    "    for i in range(n, 0, -1):\n",
    "        my_list.append(i)\n",
    "    return my_list\n",
    "print(add_numbers(5))"
   ]
  },
  {
   "cell_type": "code",
   "execution_count": 9,
   "id": "b9e4cc82-273d-4912-8e76-fb3eb4ab95de",
   "metadata": {},
   "outputs": [
    {
     "name": "stdout",
     "output_type": "stream",
     "text": [
      "[8, 5, 4, 3, 1]\n"
     ]
    }
   ],
   "source": [
    "x = [1, 3, 4, 5, 8]\n",
    "x.reverse()\n",
    "print(x)"
   ]
  },
  {
   "cell_type": "code",
   "execution_count": 10,
   "id": "a75aa656-8ed3-49e4-9d12-53910513001a",
   "metadata": {},
   "outputs": [
    {
     "name": "stdout",
     "output_type": "stream",
     "text": [
      "[1, 4, 9, 16, 25]\n"
     ]
    }
   ],
   "source": [
    "#Write a recursive function that only returns a list, even in the base case. The function should append the square of numbers from 1 to n.\n",
    "\n",
    "def square_numbers(num):\n",
    "    squares_list = []\n",
    "    if num == 1:\n",
    "        squares_list.append(1)\n",
    "        return squares_list\n",
    "    else:\n",
    "        for n in range (1, num+1):\n",
    "            squares_list.append(n * n)\n",
    "        return squares_list\n",
    "\n",
    "print(square_numbers(5))"
   ]
  },
  {
   "cell_type": "code",
   "execution_count": 11,
   "id": "81ecdefa-0693-4fcd-8d15-3f4236e5f464",
   "metadata": {},
   "outputs": [
    {
     "name": "stdout",
     "output_type": "stream",
     "text": [
      "5\n",
      "4\n",
      "3\n",
      "2\n",
      "1\n",
      "Done!\n"
     ]
    }
   ],
   "source": [
    "#Write a recursive function that prints numbers from n to 1.\n",
    "\n",
    "def countdown(n):\n",
    "    if n == 0:  # Base case\n",
    "        print(\"Done!\")\n",
    "        return\n",
    "    print(n)\n",
    "    countdown(n - 1)  # Recursive call\n",
    "\n",
    "# Example usage\n",
    "countdown(5)\n"
   ]
  },
  {
   "cell_type": "code",
   "execution_count": 12,
   "id": "e2b055ed-83ae-4fd7-b31c-69729fd77fe1",
   "metadata": {},
   "outputs": [
    {
     "name": "stdout",
     "output_type": "stream",
     "text": [
      "55\n"
     ]
    }
   ],
   "source": [
    "# Write a recursive function that returns the sum of numbers from 1 to n.\n",
    "\n",
    "def sum_of_numbers(num):\n",
    "    if num == 1:\n",
    "        return 1\n",
    "    else:\n",
    "        return num + sum_of_numbers (num -1)\n",
    "\n",
    "print (sum_of_numbers(10))\n"
   ]
  },
  {
   "cell_type": "code",
   "execution_count": 13,
   "id": "a5e37e3b-a2ca-4314-b464-7954b62dfc93",
   "metadata": {},
   "outputs": [
    {
     "name": "stdout",
     "output_type": "stream",
     "text": [
      "720\n"
     ]
    }
   ],
   "source": [
    "# Write a recursive function to compute the factorial of a number n.\n",
    "\n",
    "def factorials_of_numbers(num):\n",
    "    if num == 1:\n",
    "        return 1\n",
    "    else:\n",
    "        return num * factorials_of_numbers(num-1)\n",
    "\n",
    "print (factorials_of_numbers(6))"
   ]
  },
  {
   "cell_type": "code",
   "execution_count": 1,
   "id": "0469ce1e-fc67-4ff8-b362-f49630707779",
   "metadata": {},
   "outputs": [
    {
     "data": {
      "text/plain": [
       "[1, 1, 2, 3, 5, 8, 13, 21, 34, 55]"
      ]
     },
     "execution_count": 1,
     "metadata": {},
     "output_type": "execute_result"
    }
   ],
   "source": [
    "#Printing Fibonacci Series\n",
    "\n",
    "def fibonacci_recursive(n):\n",
    "    # Base cases\n",
    "    if n == 1:\n",
    "        return [1]  # For n=1, return a list with one element [1]\n",
    "    elif n == 2:\n",
    "        return [1, 1]  # For n=2, return the first two Fibonacci numbers [1, 1]\n",
    "    \n",
    "    # Recursive call to generate the series up to n-1\n",
    "    series = fibonacci_recursive(n-1)\n",
    "    \n",
    "    # Append the next Fibonacci number (last two numbers in the list summed up)\n",
    "    series.append(series[-1] + series[-2])\n",
    "    return series\n",
    "\n",
    "fibonacci_recursive(10)"
   ]
  },
  {
   "cell_type": "code",
   "execution_count": null,
   "id": "d96cc010-70b0-4247-91e7-8bb10c40df72",
   "metadata": {},
   "outputs": [],
   "source": []
  }
 ],
 "metadata": {
  "kernelspec": {
   "display_name": "Python 3 (ipykernel)",
   "language": "python",
   "name": "python3"
  },
  "language_info": {
   "codemirror_mode": {
    "name": "ipython",
    "version": 3
   },
   "file_extension": ".py",
   "mimetype": "text/x-python",
   "name": "python",
   "nbconvert_exporter": "python",
   "pygments_lexer": "ipython3",
   "version": "3.11.3"
  }
 },
 "nbformat": 4,
 "nbformat_minor": 5
}
