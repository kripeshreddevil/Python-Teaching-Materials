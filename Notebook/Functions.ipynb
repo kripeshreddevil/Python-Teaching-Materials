{
 "cells": [
  {
   "cell_type": "markdown",
   "id": "5dbf62a6-7e17-49e9-84e8-fe9438db0ef8",
   "metadata": {},
   "source": [
    "# Create a Function\n"
   ]
  },
  {
   "cell_type": "code",
   "execution_count": 2,
   "id": "77d94a74-991b-4750-be35-ca8ddb02f720",
   "metadata": {},
   "outputs": [
    {
     "name": "stdout",
     "output_type": "stream",
     "text": [
      "Hello World!\n"
     ]
    }
   ],
   "source": [
    "def greet():\n",
    "    print('Hello World!')\n",
    "\n",
    "greet()"
   ]
  },
  {
   "cell_type": "markdown",
   "id": "7a41fa82-3956-4be4-90d8-c55883f32ab5",
   "metadata": {},
   "source": [
    "# Calling a Function"
   ]
  },
  {
   "cell_type": "code",
   "execution_count": 5,
   "id": "8874f279-cb56-48c4-b5da-371d9fb43a26",
   "metadata": {},
   "outputs": [
    {
     "name": "stdout",
     "output_type": "stream",
     "text": [
      "Outside Function\n",
      "Hello World!\n"
     ]
    }
   ],
   "source": [
    "def greet():\n",
    "    print('Hello World!')\n",
    "print(\"Outside Function\")\n",
    "greet()\n",
    "\n"
   ]
  },
  {
   "cell_type": "markdown",
   "id": "42bb2593-3eed-4827-aa33-b38bdbbbba01",
   "metadata": {},
   "source": [
    "# Python Function Arguments\n"
   ]
  },
  {
   "cell_type": "code",
   "execution_count": 6,
   "id": "5c808ea1-194c-4ee1-9f08-8a4c64be1ff6",
   "metadata": {},
   "outputs": [
    {
     "name": "stdin",
     "output_type": "stream",
     "text": [
      "Enter your name Ram\n"
     ]
    },
    {
     "name": "stdout",
     "output_type": "stream",
     "text": [
      "Hello Ram\n"
     ]
    },
    {
     "name": "stdin",
     "output_type": "stream",
     "text": [
      "Enter your name Shyam\n"
     ]
    },
    {
     "name": "stdout",
     "output_type": "stream",
     "text": [
      "Hello Shyam\n"
     ]
    }
   ],
   "source": [
    "x = input (\"Enter your name\")\n",
    "print (\"Hello\", x)\n",
    "\n",
    "y = input (\"Enter your name\")\n",
    "print (\"Hello\", y)"
   ]
  },
  {
   "cell_type": "code",
   "execution_count": 16,
   "id": "2ddb5d1e-31c1-417e-ba16-b09177ad1020",
   "metadata": {},
   "outputs": [
    {
     "ename": "TypeError",
     "evalue": "greetName() takes 2 positional arguments but 3 were given",
     "output_type": "error",
     "traceback": [
      "\u001b[1;31m---------------------------------------------------------------------------\u001b[0m",
      "\u001b[1;31mTypeError\u001b[0m                                 Traceback (most recent call last)",
      "Cell \u001b[1;32mIn[16], line 4\u001b[0m\n\u001b[0;32m      1\u001b[0m \u001b[38;5;28;01mdef\u001b[39;00m \u001b[38;5;21mgreetName\u001b[39m(fname, lname):\n\u001b[0;32m      2\u001b[0m     \u001b[38;5;28mprint\u001b[39m(\u001b[38;5;124m\"\u001b[39m\u001b[38;5;124mHello \u001b[39m\u001b[38;5;124m\"\u001b[39m \u001b[38;5;241m+\u001b[39m fname \u001b[38;5;241m+\u001b[39m \u001b[38;5;124m\"\u001b[39m\u001b[38;5;124m \u001b[39m\u001b[38;5;124m\"\u001b[39m \u001b[38;5;241m+\u001b[39m lname)\n\u001b[1;32m----> 4\u001b[0m greetName (\u001b[38;5;124m\"\u001b[39m\u001b[38;5;124mKrishna\u001b[39m\u001b[38;5;124m\"\u001b[39m, \u001b[38;5;124m\"\u001b[39m\u001b[38;5;124mRam\u001b[39m\u001b[38;5;124m\"\u001b[39m, \u001b[38;5;124m\"\u001b[39m\u001b[38;5;124mShyam\u001b[39m\u001b[38;5;124m\"\u001b[39m)\n",
      "\u001b[1;31mTypeError\u001b[0m: greetName() takes 2 positional arguments but 3 were given"
     ]
    }
   ],
   "source": [
    "def greetName(fname, lname):\n",
    "    print(\"Hello \" + fname + \" \" + lname)\n",
    "\n",
    "greetName (\"Krishna\", \"Ram\", \"Shyam\")\n"
   ]
  },
  {
   "cell_type": "markdown",
   "id": "c34c4a49-9cfa-4b15-ba75-d2e223aaed2d",
   "metadata": {},
   "source": [
    "# Example: Function to Add Two Numbers\r\n"
   ]
  },
  {
   "cell_type": "code",
   "execution_count": 9,
   "id": "03cdb63c-58ca-4f15-82b8-062cbfccc98d",
   "metadata": {},
   "outputs": [
    {
     "name": "stdout",
     "output_type": "stream",
     "text": [
      "Sum:  625\n",
      "Sum:  144\n"
     ]
    }
   ],
   "source": [
    "def add_numbers(num1, num2):\n",
    "    sum = num1 ** num2\n",
    "    print(\"Sum: \", sum)\n",
    "\n",
    "add_numbers(5, 4 )\n",
    "add_numbers(12, 2 )\n",
    "\n"
   ]
  },
  {
   "cell_type": "markdown",
   "id": "de4fe70e-bf74-46ed-9e80-080815f55bfb",
   "metadata": {},
   "source": [
    "# The return Statement\r\n"
   ]
  },
  {
   "cell_type": "code",
   "execution_count": 10,
   "id": "261a3ab3-0ae1-4eab-b2bd-08e46b4fdc26",
   "metadata": {},
   "outputs": [
    {
     "name": "stdout",
     "output_type": "stream",
     "text": [
      "25\n",
      "Square: 9\n"
     ]
    }
   ],
   "source": [
    "def find_square(num):\n",
    "    result = num * num\n",
    "    return result\n",
    "\n",
    "print(find_square(5))\n",
    "\n",
    "square = find_square(3)\n",
    "\n",
    "print('Square:', square)\n"
   ]
  },
  {
   "cell_type": "markdown",
   "id": "1aa9b847-e9cd-4c60-8d64-d78459031fd1",
   "metadata": {},
   "source": [
    "# The pass Statement\r\n"
   ]
  },
  {
   "cell_type": "code",
   "execution_count": 59,
   "id": "a7a91632-1e8c-497b-bcab-8803eb094a4b",
   "metadata": {},
   "outputs": [],
   "source": [
    "def add_two_numbers():\n",
    "    pass\n",
    "def subtract_two_numbers():\n",
    "    pass\n",
    "def multiply_two_numbers():\n",
    "    pass\n",
    "\n",
    "add_two_numbers()"
   ]
  },
  {
   "cell_type": "markdown",
   "id": "420820b8-9731-4fc5-ac74-71717b956008",
   "metadata": {},
   "source": [
    "# Example 1: Python Function Arguments\r\n"
   ]
  },
  {
   "cell_type": "code",
   "execution_count": 2,
   "id": "d7cdb247-0053-49e3-bba8-61fc9361c2d4",
   "metadata": {},
   "outputs": [
    {
     "name": "stdout",
     "output_type": "stream",
     "text": [
      "Sum: 5\n"
     ]
    }
   ],
   "source": [
    "def add_numbers(a, b):\n",
    "    sum = a + b\n",
    "    print('Sum:', sum)\n",
    "\n",
    "add_numbers(2, 3)\n"
   ]
  },
  {
   "cell_type": "markdown",
   "id": "7d5e7050-32aa-46ab-b988-53d7f1542d35",
   "metadata": {},
   "source": [
    "# Function Argument with Default Values"
   ]
  },
  {
   "cell_type": "code",
   "execution_count": 14,
   "id": "8a29c38b-5578-43a9-9dd4-8b09da9b470f",
   "metadata": {},
   "outputs": [
    {
     "name": "stdout",
     "output_type": "stream",
     "text": [
      "Sum: 13\n",
      "Sum: 15\n"
     ]
    }
   ],
   "source": [
    "def add_numbers( a = 7,  b = 8):\n",
    "    sum = a + b\n",
    "    print('Sum:', sum)\n",
    "\n",
    "# function call with two arguments\n",
    "# add_numbers(2, 3)\n",
    "\n",
    "#  function call with one argument\n",
    "add_numbers(5)\n",
    "\n",
    "# function call with no arguments\n",
    "add_numbers()\n",
    "\n"
   ]
  },
  {
   "cell_type": "markdown",
   "id": "edf2626e-12cd-431e-9c6c-295ce06226fc",
   "metadata": {},
   "source": [
    "# Python Keyword Argument"
   ]
  },
  {
   "cell_type": "code",
   "execution_count": 4,
   "id": "01cf8036-3952-4971-8647-1989dc4fd6ce",
   "metadata": {},
   "outputs": [
    {
     "name": "stdout",
     "output_type": "stream",
     "text": [
      "First Name: Eric\n",
      "Last Name: Cartman\n"
     ]
    }
   ],
   "source": [
    "def display_info(first_name, last_name):\n",
    "    print('First Name:', first_name)\n",
    "    print('Last Name:', last_name)\n",
    "\n",
    "display_info(last_name = 'Cartman', first_name = 'Eric')\n",
    "display_info(\"Cartman\",\"Eric\")"
   ]
  },
  {
   "cell_type": "markdown",
   "id": "3a4c3676-7bae-4e5a-86c6-5e2c83a810da",
   "metadata": {},
   "source": [
    "# Python Function With Arbitrary Arguments"
   ]
  },
  {
   "cell_type": "code",
   "execution_count": 7,
   "id": "6673426a-7404-4d22-adcb-0ac334f76ac9",
   "metadata": {},
   "outputs": [
    {
     "name": "stdout",
     "output_type": "stream",
     "text": [
      "Sum =  21\n"
     ]
    }
   ],
   "source": [
    "def find_sum(*numbers):\n",
    "    result = 0\n",
    "    \n",
    "    for num in numbers:\n",
    "        result = result + num\n",
    "    \n",
    "    print(\"Sum = \", result)\n",
    "\n",
    "# function call with 3 arguments\n",
    "find_sum(11, 22, 13)\n",
    "\n",
    "# function call with 2 arguments\n",
    "find_sum(4, 9, 7, 1)\n",
    "\n",
    "\n"
   ]
  },
  {
   "cell_type": "markdown",
   "id": "b2ebc9f7-167a-4c41-aa75-f27e21c21042",
   "metadata": {},
   "source": [
    "# Python Variable Scope"
   ]
  },
  {
   "cell_type": "code",
   "execution_count": 3,
   "id": "23e67403-36ec-462d-9ac1-6e995045af05",
   "metadata": {},
   "outputs": [
    {
     "name": "stdout",
     "output_type": "stream",
     "text": [
      "9\n"
     ]
    }
   ],
   "source": [
    "def add_numbers():\n",
    "    sums = 5 + 4\n",
    "    print(sums)\n",
    "\n",
    "add_numbers()\n",
    "#Here, the sum variable is created inside the function, so it can only be accessed within it (local scope). This type of variable is called a local variable."
   ]
  },
  {
   "cell_type": "markdown",
   "id": "60018231-065f-4a21-95c5-cdd8821757f5",
   "metadata": {},
   "source": [
    "# Python Local Variables"
   ]
  },
  {
   "cell_type": "code",
   "execution_count": 4,
   "id": "5caa2ef7-a2c1-44cb-a98f-0ffdf82549f8",
   "metadata": {},
   "outputs": [
    {
     "name": "stdout",
     "output_type": "stream",
     "text": [
      "Local Hello\n"
     ]
    },
    {
     "ename": "NameError",
     "evalue": "name 'message' is not defined",
     "output_type": "error",
     "traceback": [
      "\u001b[1;31m---------------------------------------------------------------------------\u001b[0m",
      "\u001b[1;31mNameError\u001b[0m                                 Traceback (most recent call last)",
      "Cell \u001b[1;32mIn[4], line 10\u001b[0m\n\u001b[0;32m      6\u001b[0m     \u001b[38;5;28mprint\u001b[39m(\u001b[38;5;124m'\u001b[39m\u001b[38;5;124mLocal\u001b[39m\u001b[38;5;124m'\u001b[39m, message)\n\u001b[0;32m      8\u001b[0m greet()\n\u001b[1;32m---> 10\u001b[0m \u001b[38;5;28mprint\u001b[39m(message)\n",
      "\u001b[1;31mNameError\u001b[0m: name 'message' is not defined"
     ]
    }
   ],
   "source": [
    "def greet():\n",
    "\n",
    "    # local variable\n",
    "    message = 'Hello'\n",
    "    \n",
    "    print('Local', message)\n",
    "\n",
    "greet()\n",
    "\n",
    "print(message)\n"
   ]
  },
  {
   "cell_type": "markdown",
   "id": "fe99f9cd-f12c-4ae3-a62d-bb5e0b074bf4",
   "metadata": {},
   "source": [
    "# Python Global Variables"
   ]
  },
  {
   "cell_type": "code",
   "execution_count": 16,
   "id": "d106f9a6-c111-48f2-b1ba-77519122709a",
   "metadata": {},
   "outputs": [
    {
     "name": "stdout",
     "output_type": "stream",
     "text": [
      "Global Hello\n",
      "Local Hello\n"
     ]
    }
   ],
   "source": [
    "# declare global variable\n",
    "message = 'Hello'\n",
    "\n",
    "def greet():\n",
    "    # declare local variable\n",
    "    print('Local', message)\n",
    "\n",
    "print('Global', message)\n",
    "greet()\n",
    "\n"
   ]
  },
  {
   "cell_type": "markdown",
   "id": "533b8c3f-23bc-4e27-97fc-5ea7c171edf5",
   "metadata": {},
   "source": [
    "# Python Nonlocal Variables"
   ]
  },
  {
   "cell_type": "code",
   "execution_count": 7,
   "id": "3accde29-a860-40dd-86fb-632a2fb511bd",
   "metadata": {},
   "outputs": [
    {
     "name": "stdout",
     "output_type": "stream",
     "text": [
      "inner: Local\n",
      "outer: Local\n"
     ]
    }
   ],
   "source": [
    "# outside function \n",
    "def outer():\n",
    "    message = \"Global\"\n",
    "\n",
    "    # nested function  \n",
    "    def inner():\n",
    "\n",
    "        # declare nonlocal variable\n",
    "        nonlocal message\n",
    "        message = \"Local\"\n",
    "        print(\"inner:\", message)\n",
    "\n",
    "    inner()\n",
    "    print(\"outer:\", message)\n",
    "\n",
    "outer()\n"
   ]
  },
  {
   "cell_type": "markdown",
   "id": "e50f0d9f-dfb5-45c7-93a3-6b4776a872d4",
   "metadata": {},
   "source": [
    "# Another Example"
   ]
  },
  {
   "cell_type": "code",
   "execution_count": 14,
   "id": "26c71b39-5a03-4051-8160-9e8a39edd55a",
   "metadata": {},
   "outputs": [
    {
     "name": "stdout",
     "output_type": "stream",
     "text": [
      "inner count: 1\n",
      "inner count: 2\n",
      "outer count: 2\n"
     ]
    }
   ],
   "source": [
    "def outer():\n",
    "    count = 0  # Variable in the outer function\n",
    "\n",
    "    def inner():\n",
    "        nonlocal count  # Refer to 'count' in the outer function\n",
    "        count += 1  # Modify the outer function's variable\n",
    "        print(\"inner count:\", count)\n",
    "\n",
    "\n",
    "    inner()\n",
    "    inner()\n",
    "    print(\"outer count:\", count)\n",
    "\n",
    "\n",
    "outer()\n",
    "\n"
   ]
  },
  {
   "cell_type": "markdown",
   "id": "945a6a15-776f-42f6-8a43-482fd382a900",
   "metadata": {},
   "source": [
    "# Python Global Keyword"
   ]
  },
  {
   "cell_type": "code",
   "execution_count": 8,
   "id": "f54ec729-046e-40e8-80e4-8518881c6446",
   "metadata": {},
   "outputs": [
    {
     "name": "stdout",
     "output_type": "stream",
     "text": [
      "1\n"
     ]
    }
   ],
   "source": [
    "c = 1 # global variable\n",
    "\n",
    "def add():\n",
    "    print(c)\n",
    "\n",
    "add()\n",
    "\n"
   ]
  },
  {
   "cell_type": "markdown",
   "id": "5719e301-82cc-4e43-b09a-44c6aa3848ca",
   "metadata": {},
   "source": [
    "# Access and Modify Python Global Variable"
   ]
  },
  {
   "cell_type": "code",
   "execution_count": 2,
   "id": "0f1af0f6-fcd3-4a4c-9bf1-72583670a3f8",
   "metadata": {},
   "outputs": [
    {
     "name": "stdout",
     "output_type": "stream",
     "text": [
      "7\n"
     ]
    }
   ],
   "source": [
    "sum = 3  # Global variable\n",
    "\n",
    "def add_numbers():\n",
    "    sum = sum + 4  \n",
    "    print(sum)\n",
    "\n",
    "add_numbers()\n"
   ]
  },
  {
   "cell_type": "code",
   "execution_count": 3,
   "id": "dd2ca0bc-f01c-476c-9ca1-fc3333f7126f",
   "metadata": {},
   "outputs": [
    {
     "ename": "UnboundLocalError",
     "evalue": "cannot access local variable 'c' where it is not associated with a value",
     "output_type": "error",
     "traceback": [
      "\u001b[1;31m---------------------------------------------------------------------------\u001b[0m",
      "\u001b[1;31mUnboundLocalError\u001b[0m                         Traceback (most recent call last)",
      "Cell \u001b[1;32mIn[3], line 10\u001b[0m\n\u001b[0;32m      7\u001b[0m     c \u001b[38;5;241m=\u001b[39m c \u001b[38;5;241m+\u001b[39m \u001b[38;5;241m2\u001b[39m \n\u001b[0;32m      8\u001b[0m     \u001b[38;5;28mprint\u001b[39m(c)\n\u001b[1;32m---> 10\u001b[0m add()\n",
      "Cell \u001b[1;32mIn[3], line 7\u001b[0m, in \u001b[0;36madd\u001b[1;34m()\u001b[0m\n\u001b[0;32m      4\u001b[0m \u001b[38;5;28;01mdef\u001b[39;00m \u001b[38;5;21madd\u001b[39m():\n\u001b[0;32m      5\u001b[0m     \u001b[38;5;66;03m# use of global keyword\u001b[39;00m\n\u001b[0;32m      6\u001b[0m     \u001b[38;5;66;03m# increment c by 2\u001b[39;00m\n\u001b[1;32m----> 7\u001b[0m     c \u001b[38;5;241m=\u001b[39m c \u001b[38;5;241m+\u001b[39m \u001b[38;5;241m2\u001b[39m \n\u001b[0;32m      8\u001b[0m     \u001b[38;5;28mprint\u001b[39m(c)\n",
      "\u001b[1;31mUnboundLocalError\u001b[0m: cannot access local variable 'c' where it is not associated with a value"
     ]
    }
   ],
   "source": [
    "# global variable\n",
    "c = 1 \n",
    "\n",
    "def add():\n",
    "    # use of global keyword\n",
    "    global c\n",
    "    # increment c by 2\n",
    "    c = c + 2 \n",
    "    print(c)\n",
    "\n",
    "add()\n"
   ]
  },
  {
   "cell_type": "code",
   "execution_count": null,
   "id": "9c03fecd-f180-4cd3-bc31-b11db48668d2",
   "metadata": {},
   "outputs": [],
   "source": [
    "def get_pi():\n",
    "    return 3.14159\n",
    "\n",
    "# print(get_pi())\n",
    "\n",
    "pi_value = get_pi()\n",
    "print(pi_value)  # Outputs: 3.14159\n"
   ]
  },
  {
   "cell_type": "code",
   "execution_count": 4,
   "id": "83736f86-717c-43cb-b2ae-b8891b1cec1d",
   "metadata": {},
   "outputs": [
    {
     "name": "stdout",
     "output_type": "stream",
     "text": [
      "12\n"
     ]
    }
   ],
   "source": [
    "def add_numbers(a, b):\n",
    "    return a + b\n",
    "\n",
    "# result = add_numbers(5, 7)\n",
    "print(add_numbers(5, 7))\n"
   ]
  },
  {
   "cell_type": "markdown",
   "id": "ca8afbf3-39d8-432a-82f7-4f742f73ab8b",
   "metadata": {},
   "source": [
    "# Example: Changing Global Variable From Inside a Function using global"
   ]
  },
  {
   "cell_type": "code",
   "execution_count": 14,
   "id": "7d35dadd-5753-4780-aeca-59a55a121920",
   "metadata": {},
   "outputs": [
    {
     "name": "stdout",
     "output_type": "stream",
     "text": [
      "7\n"
     ]
    }
   ],
   "source": [
    "sum = 3  # Global variable\n",
    "\n",
    "def add_numbers():\n",
    "    global sum  # Declare sum as a global variable\n",
    "    sum = sum + 4  # Modify the global sum\n",
    "    print(sum)\n",
    "\n",
    "add_numbers()\n"
   ]
  },
  {
   "cell_type": "code",
   "execution_count": null,
   "id": "397009a8-2f31-415d-8955-f733b061fbb0",
   "metadata": {},
   "outputs": [],
   "source": [
    "#Write a function called multiply_numbers that takes two numbers as parameters and returns their product.\n",
    "def multiply_numbers(a, b):\n",
    "    return a * b\n",
    "\n",
    "# Example usage\n",
    "result = multiply_numbers(3, 4)\n",
    "print(result)  # Outputs: 12\n"
   ]
  },
  {
   "cell_type": "code",
   "execution_count": null,
   "id": "c848cfe7-1c62-47de-849f-6058e0ba365a",
   "metadata": {},
   "outputs": [],
   "source": [
    "#Write a function is_even that takes a number as input and returns True if the number is even and False otherwise.\n",
    "def is_even(number):\n",
    "    return number % 2 == 0\n",
    "\n",
    "# Example usage\n",
    "print(is_even(4))  # Outputs: True\n",
    "print(is_even(7))  # Outputs: False\n"
   ]
  },
  {
   "cell_type": "code",
   "execution_count": null,
   "id": "e59582ed-9359-4b23-88f0-48ec21832318",
   "metadata": {},
   "outputs": [],
   "source": [
    "#Write a function max_of_three that takes three numbers as arguments and returns the largest one.\n",
    "def max_of_three(a, b, c):\n",
    "    return max(a, b, c)\n",
    "\n",
    "# Example usage\n",
    "print(max_of_three(1, 5, 3))  # Outputs: 5\n",
    "\n"
   ]
  },
  {
   "cell_type": "code",
   "execution_count": 15,
   "id": "8541f8f2-fe83-4634-b4d4-7643b108f664",
   "metadata": {},
   "outputs": [
    {
     "name": "stdout",
     "output_type": "stream",
     "text": [
      "78.53981633974483\n"
     ]
    }
   ],
   "source": [
    "#Write a function calculate_area that takes the radius of a circle as an argument and returns the area. Use the formula Area = π * radius^2.\n",
    "import math\n",
    "\n",
    "def calculate_area(radius):\n",
    "    return math.pi * radius**2\n",
    "\n",
    "# Example usage\n",
    "print(calculate_area(5))  # Outputs: 78.53981633974483\n"
   ]
  },
  {
   "cell_type": "code",
   "execution_count": null,
   "id": "540f7e17-64f1-4f78-854d-4a6fe0b9a8ff",
   "metadata": {},
   "outputs": [],
   "source": [
    "#Write a function greet that takes a name as input and prints a greeting. If no name is provided, it should default to \"Guest\".\n",
    "\n",
    "def greet(name=\"Guest\"):\n",
    "    print(f\"Hello, {name}!\")\n",
    "\n",
    "# Example usage\n",
    "greet()  # Outputs: Hello, Guest!\n",
    "greet(\"Alice\")  # Outputs: Hello, Alice!\n"
   ]
  },
  {
   "cell_type": "code",
   "execution_count": null,
   "id": "4b71cc9e-1566-413f-80d7-033e50c080b2",
   "metadata": {},
   "outputs": [],
   "source": [
    "#Write a function sum_numbers that takes a variable number of arguments and returns their sum. You can use *args for this.\n",
    "def sum_numbers(*args):\n",
    "    return sum(args)\n",
    "\n",
    "# Example usage\n",
    "print(sum_numbers(1, 2, 3))  # Outputs: 6\n",
    "print(sum_numbers(10, 20))  # Outputs: 30\n"
   ]
  },
  {
   "cell_type": "code",
   "execution_count": 16,
   "id": "3dba1168-8dfb-4a4a-aea2-a5f022e677dc",
   "metadata": {},
   "outputs": [],
   "source": [
    "#Write a function concatenate_strings that takes a variable number of string arguments and returns them concatenated as a single string.\n",
    "def concatenate_strings(*args):\n",
    "    return \"\".join(args)\n",
    "\n",
    "# Example usage\n",
    "print(concatenate_strings(\"Hello\", \" \", \"World\", \"!\"))  # Outputs: Hello World!\n"
   ]
  },
  {
   "cell_type": "code",
   "execution_count": 1,
   "id": "de01cd16-19f2-4802-8e4e-012382424191",
   "metadata": {},
   "outputs": [
    {
     "name": "stdout",
     "output_type": "stream",
     "text": [
      "Alice is 25 years old and lives in New York.\n",
      "Bob is 30 years old and lives in Unknown.\n"
     ]
    }
   ],
   "source": [
    "#Write a function describe_person that takes the name, age, and city of a person as keyword arguments and prints a description of the person. Make sure to handle cases where some arguments are missing by using default values.\n",
    "\n",
    "def describe_person(name, age=30, city=\"Unknown\"):\n",
    "    print(f\"{name} is {age} years old and lives in {city}.\")\n",
    "\n",
    "# Example usage\n",
    "describe_person(\"Alice\", 25, \"New York\")  # Outputs: Alice is 25 years old and lives in New York.\n",
    "describe_person(\"Bob\")  # Outputs: Bob is 30 years old and lives in Unknown.\n"
   ]
  },
  {
   "cell_type": "markdown",
   "id": "fa3073e9-db41-404e-9454-8203fd104375",
   "metadata": {},
   "source": [
    "# List and Function Exercises"
   ]
  },
  {
   "cell_type": "code",
   "execution_count": 1,
   "id": "a42ab863-a93a-46c1-b09b-b114e25e9b1b",
   "metadata": {},
   "outputs": [
    {
     "name": "stdout",
     "output_type": "stream",
     "text": [
      "['Apple', 'Mango', 'Carrot', 'Pineapple']\n"
     ]
    }
   ],
   "source": [
    "#Write a function that creates an empty list, appends items to it, and returns the final list.\n",
    "def create_list():\n",
    "    my_list = []\n",
    "    my_list.append(\"Apple\")\n",
    "    my_list.append(\"Mango\")\n",
    "    my_list.append(\"Carrot\")\n",
    "    my_list.append(\"Pineapple\")\n",
    "    return my_list\n",
    "\n",
    "print(create_list())"
   ]
  },
  {
   "cell_type": "code",
   "execution_count": 4,
   "id": "3188f87b-a7c0-4990-bf9c-29bc3f31be9d",
   "metadata": {},
   "outputs": [
    {
     "name": "stdout",
     "output_type": "stream",
     "text": [
      "['Football', 'Cricket', 'Tennis', 'Hockey', 'Badminton', 'Chess']\n"
     ]
    }
   ],
   "source": [
    "#Write a function that takes an existing list as an argument, appends new items to it, and returns the updated list.\n",
    "\n",
    "def append_list(my_list):\n",
    "    my_list.append(\"Hockey\")\n",
    "    my_list.append(\"Badminton\")\n",
    "    my_list.append(\"Chess\")\n",
    "    return my_list\n",
    "\n",
    "print(append_list([\"Football\", \"Cricket\", \"Tennis\"]))"
   ]
  },
  {
   "cell_type": "code",
   "execution_count": 5,
   "id": "77dff280-2c2b-4dca-9935-43e5a73443e1",
   "metadata": {},
   "outputs": [
    {
     "name": "stdout",
     "output_type": "stream",
     "text": [
      "[9, 1, 2, 4, 5, 1, 2, 3, 4, 5, 6, 7, 8, 9, 10]\n"
     ]
    }
   ],
   "source": [
    "#Write a function that appends a series of numbers (e.g., 1 to n) to a list and returns the list\n",
    "def append_series_of_numbers(my_list):\n",
    "    for numbers in range (1, 11):\n",
    "        my_list.append(numbers)\n",
    "    return my_list\n",
    "\n",
    "print(append_series_of_numbers([9, 1, 2, 4, 5]))\n",
    "    "
   ]
  },
  {
   "cell_type": "code",
   "execution_count": 7,
   "id": "3d31cd30-8fe6-412f-adb9-5f9d2071c1ea",
   "metadata": {},
   "outputs": [
    {
     "name": "stdout",
     "output_type": "stream",
     "text": [
      "['Pulp Fiction', 'Reservoir Dogs', 'Rambo', 'Interstellar', 'Oppenheimer']\n"
     ]
    }
   ],
   "source": [
    "#Write a function that takes two lists as arguments, appends all elements of the second list to the first, and returns the combined list.\n",
    "def append_second_list_to_first(first_list,second_list):\n",
    "    for items in second_list:\n",
    "        first_list.append(items)\n",
    "    return first_list\n",
    "\n",
    "print(append_second_list_to_first([\"Pulp Fiction\", \"Reservoir Dogs\" , \"Rambo\"],[\"Interstellar\", \"Oppenheimer\"]))"
   ]
  },
  {
   "cell_type": "code",
   "execution_count": 8,
   "id": "cd2b5546-2435-4ea3-9f6a-5b6f749381e4",
   "metadata": {},
   "outputs": [
    {
     "name": "stdout",
     "output_type": "stream",
     "text": [
      "['United', 'Arsenal', 'Liverpool', 'Spurs', 'Chelsea', 'City']\n"
     ]
    }
   ],
   "source": [
    "#Write a function that appends items to a copy of the list passed as an argument, leaving the original list unchanged.\n",
    "\n",
    "def append_copy_list_to_first(my_list):\n",
    "    new_list = my_list.copy() \n",
    "    for items in [\"Chelsea\", \"City\"]:\n",
    "        new_list.append(items)\n",
    "    return new_list\n",
    "\n",
    "print(append_copy_list_to_first([\"United\",\"Arsenal\", \"Liverpool\", \"Spurs\"]))"
   ]
  },
  {
   "cell_type": "code",
   "execution_count": null,
   "id": "53773994-1024-47d3-b980-33129ef45b33",
   "metadata": {},
   "outputs": [],
   "source": []
  }
 ],
 "metadata": {
  "kernelspec": {
   "display_name": "Python 3 (ipykernel)",
   "language": "python",
   "name": "python3"
  },
  "language_info": {
   "codemirror_mode": {
    "name": "ipython",
    "version": 3
   },
   "file_extension": ".py",
   "mimetype": "text/x-python",
   "name": "python",
   "nbconvert_exporter": "python",
   "pygments_lexer": "ipython3",
   "version": "3.11.3"
  }
 },
 "nbformat": 4,
 "nbformat_minor": 5
}
