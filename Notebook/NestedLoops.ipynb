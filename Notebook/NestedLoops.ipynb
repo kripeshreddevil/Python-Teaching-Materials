{
 "cells": [
  {
   "cell_type": "markdown",
   "id": "4fe23cae-1282-46a3-a444-bda4e98fdbe1",
   "metadata": {},
   "source": [
    "Questions with for Loops"
   ]
  },
  {
   "cell_type": "code",
   "execution_count": 3,
   "id": "608f0873-5f4e-4376-8c78-0b0151d2803c",
   "metadata": {},
   "outputs": [
    {
     "name": "stdout",
     "output_type": "stream",
     "text": [
      "I like  football\n",
      "I like  cricket\n",
      "I like  tennis\n",
      "-----------\n",
      "I play  football\n",
      "I play  cricket\n",
      "I play  tennis\n",
      "-----------\n",
      "I watch  football\n",
      "I watch  cricket\n",
      "I watch  tennis\n",
      "-----------\n"
     ]
    }
   ],
   "source": [
    "my_choices = ['I like ', 'I play ', 'I watch ']\n",
    "for choice in my_choices:\n",
    "    for sport in ['football', 'cricket', 'tennis']:\n",
    "        print (f'{choice} {sport}')\n",
    "    print(\"-----------\")"
   ]
  },
  {
   "cell_type": "code",
   "execution_count": 3,
   "id": "c189a6f8-801f-4050-81e8-b88ac7e497b7",
   "metadata": {},
   "outputs": [
    {
     "name": "stdout",
     "output_type": "stream",
     "text": [
      "This is the inner loop calculating 1 * 1 = 1\n",
      "This is the inner loop calculating 1 * 2 = 2\n",
      "This is the inner loop calculating 1 * 3 = 3\n",
      "This is the inner loop calculating 1 * 4 = 4\n",
      "This is the inner loop calculating 1 * 5 = 5\n",
      "The inner loop is completed.\n",
      "This is the inner loop calculating 2 * 1 = 2\n",
      "This is the inner loop calculating 2 * 2 = 4\n",
      "This is the inner loop calculating 2 * 3 = 6\n",
      "This is the inner loop calculating 2 * 4 = 8\n",
      "This is the inner loop calculating 2 * 5 = 10\n",
      "The inner loop is completed.\n",
      "This is the inner loop calculating 3 * 1 = 3\n",
      "This is the inner loop calculating 3 * 2 = 6\n",
      "This is the inner loop calculating 3 * 3 = 9\n",
      "This is the inner loop calculating 3 * 4 = 12\n",
      "This is the inner loop calculating 3 * 5 = 15\n",
      "The inner loop is completed.\n",
      "This is the inner loop calculating 4 * 1 = 4\n",
      "This is the inner loop calculating 4 * 2 = 8\n",
      "This is the inner loop calculating 4 * 3 = 12\n",
      "This is the inner loop calculating 4 * 4 = 16\n",
      "This is the inner loop calculating 4 * 5 = 20\n",
      "The inner loop is completed.\n",
      "This is the inner loop calculating 5 * 1 = 5\n",
      "This is the inner loop calculating 5 * 2 = 10\n",
      "This is the inner loop calculating 5 * 3 = 15\n",
      "This is the inner loop calculating 5 * 4 = 20\n",
      "This is the inner loop calculating 5 * 5 = 25\n",
      "The inner loop is completed.\n",
      "This is the inner loop calculating 6 * 1 = 6\n",
      "This is the inner loop calculating 6 * 2 = 12\n",
      "This is the inner loop calculating 6 * 3 = 18\n",
      "This is the inner loop calculating 6 * 4 = 24\n",
      "This is the inner loop calculating 6 * 5 = 30\n",
      "The inner loop is completed.\n",
      "This is the inner loop calculating 7 * 1 = 7\n",
      "This is the inner loop calculating 7 * 2 = 14\n",
      "This is the inner loop calculating 7 * 3 = 21\n",
      "This is the inner loop calculating 7 * 4 = 28\n",
      "This is the inner loop calculating 7 * 5 = 35\n",
      "The inner loop is completed.\n",
      "This is the inner loop calculating 8 * 1 = 8\n",
      "This is the inner loop calculating 8 * 2 = 16\n",
      "This is the inner loop calculating 8 * 3 = 24\n",
      "This is the inner loop calculating 8 * 4 = 32\n",
      "This is the inner loop calculating 8 * 5 = 40\n",
      "The inner loop is completed.\n",
      "This is the inner loop calculating 9 * 1 = 9\n",
      "This is the inner loop calculating 9 * 2 = 18\n",
      "This is the inner loop calculating 9 * 3 = 27\n",
      "This is the inner loop calculating 9 * 4 = 36\n",
      "This is the inner loop calculating 9 * 5 = 45\n",
      "The inner loop is completed.\n",
      "This is the inner loop calculating 10 * 1 = 10\n",
      "This is the inner loop calculating 10 * 2 = 20\n",
      "This is the inner loop calculating 10 * 3 = 30\n",
      "This is the inner loop calculating 10 * 4 = 40\n",
      "This is the inner loop calculating 10 * 5 = 50\n",
      "The inner loop is completed.\n",
      "######## Program Completed ######### \n"
     ]
    }
   ],
   "source": [
    "i = 1\n",
    "while i < 11:\n",
    "    # print (f\"This is the outer loop {i} talking\")\n",
    "    j = 1\n",
    "    while j < 6:\n",
    "        print (f'This is the inner loop calculating {i} * {j} = {i * j}')\n",
    "        j += 1\n",
    "    print (\"The inner loop is completed.\")\n",
    "    i+=1\n",
    "print (\"######## Program Completed ######### \")"
   ]
  },
  {
   "cell_type": "code",
   "execution_count": 10,
   "id": "d6e2f5a8-bc0a-469d-a717-14ef7cfdaff8",
   "metadata": {},
   "outputs": [
    {
     "name": "stdout",
     "output_type": "stream",
     "text": [
      "* \n",
      "* * \n",
      "* * * \n",
      "* * * * \n",
      "* * * * * \n"
     ]
    }
   ],
   "source": [
    "# Write a program to print the following pattern:\n",
    "# *\n",
    "# * *\n",
    "# * * *\n",
    "# * * * *\n",
    "# * * * * *\n",
    "\n",
    "for i in range(1, 6):\n",
    "    print(\"* \" * i)\n"
   ]
  },
  {
   "cell_type": "code",
   "execution_count": null,
   "id": "3b66b659-5e46-4d54-b40b-ec968054940d",
   "metadata": {},
   "outputs": [],
   "source": [
    "# Write a program to generate the following number pyramid:\n",
    "# 1\n",
    "# 1 2\n",
    "# 1 2 3\n",
    "# 1 2 3 4\n",
    "# 1 2 3 4 5\n",
    "for i in range(1, 6):\n",
    "    for j in range(1, i + 1):\n",
    "        print(j, end=\" \")\n",
    "    print()\n"
   ]
  },
  {
   "cell_type": "code",
   "execution_count": 12,
   "id": "bb333418-9335-4748-b204-020d23356669",
   "metadata": {},
   "outputs": [
    {
     "name": "stdout",
     "output_type": "stream",
     "text": [
      "1 2 3 \n",
      "4 5 6 \n",
      "7 8 9 \n"
     ]
    }
   ],
   "source": [
    "# Print the elements of a 3x3 matrix row by row using nested loops\n",
    "# [[1, 2, 3],\n",
    "#  [4, 5, 6],\n",
    "#  [7, 8, 9]]\n",
    "\n",
    "matrix = [\n",
    "    [1, 2, 3],\n",
    "    [4, 5, 6],\n",
    "    [7, 8, 9]\n",
    "]\n",
    "for row in matrix:\n",
    "    for element in row:\n",
    "        print(element, end=\" \")\n",
    "    print()\n",
    "\n"
   ]
  },
  {
   "cell_type": "code",
   "execution_count": 20,
   "id": "604df648-a5b1-4019-aa85-829390195113",
   "metadata": {},
   "outputs": [
    {
     "name": "stdout",
     "output_type": "stream",
     "text": [
      "(1, 2)\n",
      "(1, 3)\n",
      "(1, 4)\n"
     ]
    }
   ],
   "source": [
    "#Write a program to generate all unique pairs (i, j) where 1 <= i, j <= 4, and i != j.\n",
    "for i in range(1, 5):\n",
    "    for j in range(1, 5):\n",
    "        if i != j:\n",
    "            print(f\"({i}, {j})\")\n"
   ]
  },
  {
   "cell_type": "markdown",
   "id": "235320bd-158a-441c-a3a1-dae249a8a3c3",
   "metadata": {},
   "source": [
    "Questions with while Loops"
   ]
  },
  {
   "cell_type": "code",
   "execution_count": 22,
   "id": "bb1d28c8-3342-4f00-b49c-6c8996ccea25",
   "metadata": {},
   "outputs": [
    {
     "name": "stdout",
     "output_type": "stream",
     "text": [
      "1 2 3 \n",
      "1 2 3 \n",
      "1 2 3 \n"
     ]
    }
   ],
   "source": [
    "# Write a program to print the following pattern:\n",
    "# 1 2 3\n",
    "# 1 2 3\n",
    "# 1 2 3\n",
    "\n",
    "i = 1\n",
    "while i <= 3:\n",
    "    j = 1\n",
    "    while j <= 3:\n",
    "        print(j, end=\" \")\n",
    "        j += 1\n",
    "    print()\n",
    "    i += 1\n"
   ]
  },
  {
   "cell_type": "code",
   "execution_count": 24,
   "id": "f1f8062f-0ae9-4d45-a9df-3ac249139fa8",
   "metadata": {},
   "outputs": [
    {
     "name": "stdout",
     "output_type": "stream",
     "text": [
      "1 \n",
      "2 3 \n",
      "4 5 6 \n",
      "7 8 9 10 \n"
     ]
    }
   ],
   "source": [
    "# Print Floyd's Triangle using nested while loops:\n",
    "# 1\n",
    "# 2 3\n",
    "# 4 5 6\n",
    "# 7 8 9 10\n",
    "\n",
    "n = 1\n",
    "rows = 4\n",
    "i = 1\n",
    "while i <= rows:\n",
    "    j = 1\n",
    "    while j <= i:\n",
    "        print(n, end=\" \")\n",
    "        n += 1\n",
    "        j += 1\n",
    "    print()\n",
    "    i += 1\n",
    "\n"
   ]
  },
  {
   "cell_type": "code",
   "execution_count": 26,
   "id": "49a7eb3e-f573-4ac2-9df7-dab1146f6cda",
   "metadata": {},
   "outputs": [
    {
     "name": "stdout",
     "output_type": "stream",
     "text": [
      "1^2 = 1\n",
      "1^3 = 1\n",
      "2^2 = 4\n",
      "2^3 = 8\n",
      "3^2 = 9\n",
      "3^3 = 27\n"
     ]
    }
   ],
   "source": [
    "# Write a program to calculate and print the powers of numbers from 1 to 3 (e.g., 1², 1³, 2², 2³, etc.).\n",
    "\n",
    "base = 1\n",
    "while base <= 3:\n",
    "    exponent = 2\n",
    "    while exponent <= 3:\n",
    "        print(f\"{base}^{exponent} = {base ** exponent}\")\n",
    "        exponent += 1\n",
    "    base += 1\n"
   ]
  },
  {
   "cell_type": "code",
   "execution_count": 28,
   "id": "9de436f7-441b-4b08-a6be-0e9476b43de3",
   "metadata": {},
   "outputs": [
    {
     "name": "stdout",
     "output_type": "stream",
     "text": [
      "Sum of row 1: 6\n",
      "Sum of row 2: 15\n",
      "Sum of row 3: 24\n"
     ]
    }
   ],
   "source": [
    "# Write a program that uses nested while loops to sum up the numbers in each row of a matrix:\n",
    "matrix = [\n",
    "    [2, 3, 1],\n",
    "    [4, 5, 6],\n",
    "    [7, 8, 9]\n",
    "]\n",
    "i = 0\n",
    "while i < len(matrix):\n",
    "    row_sum = 0\n",
    "    j = 0\n",
    "    while j < len(matrix[i]):\n",
    "        row_sum += matrix[i][j]\n",
    "        j += 1\n",
    "    print(f\"Sum of row {i + 1}: {row_sum}\")\n",
    "    i += 1\n"
   ]
  },
  {
   "cell_type": "code",
   "execution_count": 30,
   "id": "9f83bc0a-f3f0-4337-be69-8ee2778ebe5e",
   "metadata": {},
   "outputs": [
    {
     "name": "stdout",
     "output_type": "stream",
     "text": [
      "  * \n",
      " * * \n",
      "* * * \n",
      " * * \n",
      "  * \n"
     ]
    }
   ],
   "source": [
    "# Write a program to generate the following diamond pattern using nested while loops:\n",
    "#   *\n",
    "#  * *\n",
    "# * * *\n",
    "#  * *\n",
    "#   *\n",
    "\n",
    "n = 3  # Number of rows in the upper half\n",
    "i = 1\n",
    "while i <= n:\n",
    "    print(\" \" * (n - i) + \"* \" * i)\n",
    "    i += 1\n",
    "i = n - 1\n",
    "while i >= 1:\n",
    "    print(\" \" * (n - i) + \"* \" * i)\n",
    "    i -= 1\n",
    "\n"
   ]
  },
  {
   "cell_type": "markdown",
   "id": "1ffed458-f180-4594-bca2-d0e7ed3806ce",
   "metadata": {},
   "source": [
    "Combination of for and while"
   ]
  },
  {
   "cell_type": "code",
   "execution_count": 32,
   "id": "4f1ffbd6-ecec-495f-bb5c-82501c2df552",
   "metadata": {},
   "outputs": [
    {
     "name": "stdout",
     "output_type": "stream",
     "text": [
      "1 is divisible by 1\n",
      "2 is divisible by 1\n",
      "3 is divisible by 1\n",
      "4 is divisible by 1\n",
      "5 is divisible by 1\n",
      "6 is divisible by 1\n",
      "7 is divisible by 1\n",
      "8 is divisible by 1\n",
      "9 is divisible by 1\n",
      "10 is divisible by 1\n",
      "11 is divisible by 1\n",
      "12 is divisible by 1\n",
      "13 is divisible by 1\n",
      "14 is divisible by 1\n",
      "15 is divisible by 1\n",
      "16 is divisible by 1\n",
      "17 is divisible by 1\n",
      "18 is divisible by 1\n",
      "19 is divisible by 1\n",
      "20 is divisible by 1\n",
      "21 is divisible by 1\n",
      "22 is divisible by 1\n",
      "23 is divisible by 1\n",
      "24 is divisible by 1\n",
      "25 is divisible by 1\n",
      "26 is divisible by 1\n",
      "27 is divisible by 1\n",
      "28 is divisible by 1\n",
      "29 is divisible by 1\n",
      "30 is divisible by 1\n",
      "31 is divisible by 1\n",
      "32 is divisible by 1\n",
      "33 is divisible by 1\n",
      "34 is divisible by 1\n",
      "35 is divisible by 1\n",
      "36 is divisible by 1\n",
      "37 is divisible by 1\n",
      "38 is divisible by 1\n",
      "39 is divisible by 1\n",
      "40 is divisible by 1\n",
      "41 is divisible by 1\n",
      "42 is divisible by 1\n",
      "43 is divisible by 1\n",
      "44 is divisible by 1\n",
      "45 is divisible by 1\n",
      "46 is divisible by 1\n",
      "47 is divisible by 1\n",
      "48 is divisible by 1\n",
      "49 is divisible by 1\n",
      "50 is divisible by 1\n",
      "--------------------\n",
      "2 is divisible by 2\n",
      "4 is divisible by 2\n",
      "6 is divisible by 2\n",
      "8 is divisible by 2\n",
      "10 is divisible by 2\n",
      "12 is divisible by 2\n",
      "14 is divisible by 2\n",
      "16 is divisible by 2\n",
      "18 is divisible by 2\n",
      "20 is divisible by 2\n",
      "22 is divisible by 2\n",
      "24 is divisible by 2\n",
      "26 is divisible by 2\n",
      "28 is divisible by 2\n",
      "30 is divisible by 2\n",
      "32 is divisible by 2\n",
      "34 is divisible by 2\n",
      "36 is divisible by 2\n",
      "38 is divisible by 2\n",
      "40 is divisible by 2\n",
      "42 is divisible by 2\n",
      "44 is divisible by 2\n",
      "46 is divisible by 2\n",
      "48 is divisible by 2\n",
      "50 is divisible by 2\n",
      "--------------------\n",
      "3 is divisible by 3\n",
      "6 is divisible by 3\n",
      "9 is divisible by 3\n",
      "12 is divisible by 3\n",
      "15 is divisible by 3\n",
      "18 is divisible by 3\n",
      "21 is divisible by 3\n",
      "24 is divisible by 3\n",
      "27 is divisible by 3\n",
      "30 is divisible by 3\n",
      "33 is divisible by 3\n",
      "36 is divisible by 3\n",
      "39 is divisible by 3\n",
      "42 is divisible by 3\n",
      "45 is divisible by 3\n",
      "48 is divisible by 3\n",
      "--------------------\n",
      "4 is divisible by 4\n",
      "8 is divisible by 4\n",
      "12 is divisible by 4\n",
      "16 is divisible by 4\n",
      "20 is divisible by 4\n",
      "24 is divisible by 4\n",
      "28 is divisible by 4\n",
      "32 is divisible by 4\n",
      "36 is divisible by 4\n",
      "40 is divisible by 4\n",
      "44 is divisible by 4\n",
      "48 is divisible by 4\n",
      "--------------------\n",
      "5 is divisible by 5\n",
      "10 is divisible by 5\n",
      "15 is divisible by 5\n",
      "20 is divisible by 5\n",
      "25 is divisible by 5\n",
      "30 is divisible by 5\n",
      "35 is divisible by 5\n",
      "40 is divisible by 5\n",
      "45 is divisible by 5\n",
      "50 is divisible by 5\n",
      "--------------------\n",
      "6 is divisible by 6\n",
      "12 is divisible by 6\n",
      "18 is divisible by 6\n",
      "24 is divisible by 6\n",
      "30 is divisible by 6\n",
      "36 is divisible by 6\n",
      "42 is divisible by 6\n",
      "48 is divisible by 6\n",
      "--------------------\n",
      "7 is divisible by 7\n",
      "14 is divisible by 7\n",
      "21 is divisible by 7\n",
      "28 is divisible by 7\n",
      "35 is divisible by 7\n",
      "42 is divisible by 7\n",
      "49 is divisible by 7\n",
      "--------------------\n",
      "8 is divisible by 8\n",
      "16 is divisible by 8\n",
      "24 is divisible by 8\n",
      "32 is divisible by 8\n",
      "40 is divisible by 8\n",
      "48 is divisible by 8\n",
      "--------------------\n",
      "9 is divisible by 9\n",
      "18 is divisible by 9\n",
      "27 is divisible by 9\n",
      "36 is divisible by 9\n",
      "45 is divisible by 9\n",
      "--------------------\n",
      "10 is divisible by 10\n",
      "20 is divisible by 10\n",
      "30 is divisible by 10\n",
      "40 is divisible by 10\n",
      "50 is divisible by 10\n",
      "--------------------\n"
     ]
    }
   ],
   "source": [
    "#Use a while loop inside a for loop to find and print all numbers between 1 and 50 that are divisible by the current loop index of the for loop.\n",
    "\n",
    "for i in range(1, 11):\n",
    "    num = 1\n",
    "    while num <= 50:\n",
    "        if num % i == 0:\n",
    "            print(f\"{num} is divisible by {i}\")\n",
    "        num += 1\n",
    "    print(\"-\" * 20)\n",
    "\n"
   ]
  },
  {
   "cell_type": "code",
   "execution_count": 34,
   "id": "0745c1cb-a29f-44a9-96dd-2eb6090bea91",
   "metadata": {},
   "outputs": [
    {
     "name": "stdout",
     "output_type": "stream",
     "text": [
      "5 4 3 2 1 \n",
      "4 3 2 1 \n",
      "3 2 1 \n",
      "2 1 \n",
      "1 \n"
     ]
    }
   ],
   "source": [
    "#Write a program to generate the reverse number pyramid:\n",
    "# 5 4 3 2 1\n",
    "# 4 3 2 1\n",
    "# 3 2 1\n",
    "# 2 1\n",
    "# 1\n",
    "for i in range(5, 0, -1):\n",
    "    for j in range(i, 0, -1):\n",
    "        print(j, end=\" \")\n",
    "    print()\n",
    "\n"
   ]
  },
  {
   "cell_type": "code",
   "execution_count": null,
   "id": "e00863c7-6ab3-42aa-b2f6-d566d8ed7731",
   "metadata": {},
   "outputs": [],
   "source": []
  }
 ],
 "metadata": {
  "kernelspec": {
   "display_name": "Python 3 (ipykernel)",
   "language": "python",
   "name": "python3"
  },
  "language_info": {
   "codemirror_mode": {
    "name": "ipython",
    "version": 3
   },
   "file_extension": ".py",
   "mimetype": "text/x-python",
   "name": "python",
   "nbconvert_exporter": "python",
   "pygments_lexer": "ipython3",
   "version": "3.11.3"
  }
 },
 "nbformat": 4,
 "nbformat_minor": 5
}
