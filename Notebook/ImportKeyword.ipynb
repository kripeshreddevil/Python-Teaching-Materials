{
 "cells": [
  {
   "cell_type": "markdown",
   "id": "f64569eb-7472-4c34-a169-4cd632b8b5df",
   "metadata": {},
   "source": [
    "# Python 'import' Keyword\r\n"
   ]
  },
  {
   "cell_type": "code",
   "execution_count": 1,
   "id": "e0772b94-8082-4158-8c60-6395988546a6",
   "metadata": {},
   "outputs": [
    {
     "name": "stdout",
     "output_type": "stream",
     "text": [
      "time([hour[, minute[, second[, microsecond[, tzinfo]]]]]) --> a time object\n",
      "\n",
      "All arguments are optional. tzinfo may be None, or an instance of\n",
      "a tzinfo subclass. The remaining arguments may be ints.\n",
      "\n",
      "15:00:00\n"
     ]
    }
   ],
   "source": [
    "from datetime import time\n",
    "\n",
    "x = time(hour=15)\n",
    "\n",
    "print(time.__doc__)\n",
    "\n",
    "print(x)\n"
   ]
  },
  {
   "cell_type": "markdown",
   "id": "8e37d8b6-2f75-4988-bb8a-bf5b6fcb9ab6",
   "metadata": {},
   "source": [
    "# Python 'as' keyword"
   ]
  },
  {
   "cell_type": "code",
   "execution_count": 3,
   "id": "2dffc507-e18f-4e5e-aceb-0669611dabe2",
   "metadata": {},
   "outputs": [
    {
     "name": "stdout",
     "output_type": "stream",
     "text": [
      "January\n"
     ]
    }
   ],
   "source": [
    "import calendar as c\n",
    "\n",
    "print(c.month_name[1])\n"
   ]
  },
  {
   "cell_type": "markdown",
   "id": "ed786e68-b445-4363-a119-1c512fb9ba1e",
   "metadata": {},
   "source": [
    "# Modules\n"
   ]
  },
  {
   "cell_type": "code",
   "execution_count": 4,
   "id": "73004c46-412c-4ed4-ad70-71fd31c76703",
   "metadata": {},
   "outputs": [
    {
     "name": "stdout",
     "output_type": "stream",
     "text": [
      "Square root of 16: 4.0\n",
      "Sine of 90 degrees: 1.0\n",
      "GCD of 48 and 18: 6\n"
     ]
    }
   ],
   "source": [
    "import math\n",
    "\n",
    "# Calculate square root\n",
    "print(\"Square root of 16:\", math.sqrt(16))\n",
    "\n",
    "# Calculate the value of sine for 90 degrees (converted to radians)\n",
    "print(\"Sine of 90 degrees:\", math.sin(math.radians(90)))\n",
    "\n",
    "# Find the greatest common divisor (GCD) of two numbers\n",
    "print(\"GCD of 48 and 18:\", math.gcd(48, 18))\n"
   ]
  },
  {
   "cell_type": "code",
   "execution_count": 5,
   "id": "0f8cef25-be3e-42e7-b8c4-372a1d3c8951",
   "metadata": {},
   "outputs": [
    {
     "name": "stdout",
     "output_type": "stream",
     "text": [
      "Current Date and Time: 2025-01-27 09:34:04.006778\n",
      "Formatted Date and Time: 2025-01-27 09:34:04\n"
     ]
    }
   ],
   "source": [
    "from datetime import datetime\n",
    "\n",
    "# Get the current date and time\n",
    "current_time = datetime.now()\n",
    "print(\"Current Date and Time:\", current_time)\n",
    "\n",
    "# Format the date\n",
    "formatted_date = current_time.strftime(\"%Y-%m-%d %H:%M:%S\")\n",
    "print(\"Formatted Date and Time:\", formatted_date)\n"
   ]
  },
  {
   "cell_type": "code",
   "execution_count": 6,
   "id": "a9b67d19-bca7-40ce-9be9-6c7b626f8d5d",
   "metadata": {},
   "outputs": [
    {
     "name": "stdout",
     "output_type": "stream",
     "text": [
      "Random integer between 1 and 10: 4\n",
      "Random fruit: date\n"
     ]
    }
   ],
   "source": [
    "from random import randint, choice\n",
    "\n",
    "# Generate a random integer between 1 and 10\n",
    "print(\"Random integer between 1 and 10:\", randint(1, 10))\n",
    "\n",
    "# Choose a random element from a list\n",
    "fruits = ['apple', 'banana', 'cherry', 'date']\n",
    "print(\"Random fruit:\", choice(fruits))\n"
   ]
  },
  {
   "cell_type": "code",
   "execution_count": 7,
   "id": "cf456c36-7231-44a8-83b5-27903e0d3e4c",
   "metadata": {},
   "outputs": [
    {
     "name": "stdout",
     "output_type": "stream",
     "text": [
      "Numpy Array: [1 2 3 4 5]\n",
      "Array Squared: [ 1  4  9 16 25]\n",
      "Sum of Array: 15\n"
     ]
    }
   ],
   "source": [
    "import numpy as np\n",
    "\n",
    "# Create a numpy array\n",
    "arr = np.array([1, 2, 3, 4, 5])\n",
    "print(\"Numpy Array:\", arr)\n",
    "\n",
    "# Perform operations on the array\n",
    "print(\"Array Squared:\", arr ** 2)\n",
    "print(\"Sum of Array:\", np.sum(arr))\n"
   ]
  },
  {
   "cell_type": "code",
   "execution_count": 8,
   "id": "83cf5919-da24-4126-90e8-055c01f47bb4",
   "metadata": {},
   "outputs": [
    {
     "name": "stdout",
     "output_type": "stream",
     "text": [
      "2 raised to the power 3: 8.0\n",
      "Natural logarithm of 10: 2.302585092994046\n"
     ]
    }
   ],
   "source": [
    "from math import pow, log\n",
    "\n",
    "# Power calculation\n",
    "print(\"2 raised to the power 3:\", pow(2, 3))\n",
    "\n",
    "# Natural logarithm\n",
    "print(\"Natural logarithm of 10:\", log(10))\n"
   ]
  },
  {
   "cell_type": "code",
   "execution_count": 9,
   "id": "92ab6b1f-9c83-4ffd-b75c-04cdb5251259",
   "metadata": {},
   "outputs": [
    {
     "name": "stdout",
     "output_type": "stream",
     "text": [
      "Permutations of items: [('A', 'B', 'C'), ('A', 'C', 'B'), ('B', 'A', 'C'), ('B', 'C', 'A'), ('C', 'A', 'B'), ('C', 'B', 'A')]\n",
      "Combinations of 2 items: [('A', 'B'), ('A', 'C'), ('B', 'C')]\n"
     ]
    }
   ],
   "source": [
    "from itertools import permutations, combinations\n",
    "\n",
    "# Create a list\n",
    "items = ['A', 'B', 'C']\n",
    "\n",
    "# Generate all permutations\n",
    "print(\"Permutations of items:\", list(permutations(items)))\n",
    "\n",
    "# Generate all combinations of 2 items\n",
    "print(\"Combinations of 2 items:\", list(combinations(items, 2)))\n"
   ]
  },
  {
   "cell_type": "code",
   "execution_count": 10,
   "id": "6328f884-0cbd-4946-bdc5-225d883053aa",
   "metadata": {},
   "outputs": [
    {
     "name": "stdout",
     "output_type": "stream",
     "text": [
      "Mean: 30\n",
      "Median: 30\n",
      "Variance: 250\n"
     ]
    }
   ],
   "source": [
    "import statistics as stats\n",
    "\n",
    "data = [10, 20, 30, 40, 50]\n",
    "\n",
    "# Calculate mean, median, and variance\n",
    "print(\"Mean:\", stats.mean(data))\n",
    "print(\"Median:\", stats.median(data))\n",
    "print(\"Variance:\", stats.variance(data))\n"
   ]
  },
  {
   "cell_type": "code",
   "execution_count": null,
   "id": "a51ffe3b-0231-4833-ac60-a9f975450ff0",
   "metadata": {},
   "outputs": [],
   "source": []
  }
 ],
 "metadata": {
  "kernelspec": {
   "display_name": "Python 3 (ipykernel)",
   "language": "python",
   "name": "python3"
  },
  "language_info": {
   "codemirror_mode": {
    "name": "ipython",
    "version": 3
   },
   "file_extension": ".py",
   "mimetype": "text/x-python",
   "name": "python",
   "nbconvert_exporter": "python",
   "pygments_lexer": "ipython3",
   "version": "3.11.3"
  }
 },
 "nbformat": 4,
 "nbformat_minor": 5
}
