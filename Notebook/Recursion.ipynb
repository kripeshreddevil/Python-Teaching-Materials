{
 "cells": [
  {
   "cell_type": "markdown",
   "id": "47a8e3e8-d645-4eaf-a679-70e011efccad",
   "metadata": {},
   "source": [
    "# Recursion"
   ]
  },
  {
   "cell_type": "code",
   "execution_count": 2,
   "id": "27ebad49-fe02-4501-a9e3-7aa8cc459f9b",
   "metadata": {},
   "outputs": [],
   "source": [
    "def greet():\n",
    "    print (\"Greetings.\")\n",
    "    welcome()\n",
    "\n",
    "def welcome():\n",
    "    print ( \"Hello\")\n",
    "\n",
    "greet()"
   ]
  },
  {
   "cell_type": "code",
   "execution_count": 3,
   "id": "ef66ff89-9691-49e3-a4c9-931df97123ae",
   "metadata": {},
   "outputs": [
    {
     "name": "stdout",
     "output_type": "stream",
     "text": [
      "120\n"
     ]
    }
   ],
   "source": [
    "def factorial (num):\n",
    "    if num == 1:\n",
    "        return 1\n",
    "    else:\n",
    "        return num * factorial(num-1)\n",
    "\n",
    "print(factorial(5))"
   ]
  },
  {
   "cell_type": "code",
   "execution_count": 4,
   "id": "f109a5b7-291e-4c02-92fb-946883c0787b",
   "metadata": {},
   "outputs": [
    {
     "name": "stdout",
     "output_type": "stream",
     "text": [
      "120\n"
     ]
    }
   ],
   "source": [
    "def calulate_sum_of_natural (num):\n",
    "    if num == 1:\n",
    "        return 1\n",
    "    else:\n",
    "        return num + calulate_sum_of_natural(num-1)\n",
    "\n",
    "print (calulate_sum_of_natural(15))"
   ]
  },
  {
   "cell_type": "code",
   "execution_count": 5,
   "id": "b6504af6-ef43-436f-80bb-9b1778b57ef6",
   "metadata": {},
   "outputs": [
    {
     "name": "stdout",
     "output_type": "stream",
     "text": [
      "8\n"
     ]
    }
   ],
   "source": [
    "def fibonacci (num):\n",
    "    if num == 1 or num == 2:\n",
    "        return 1\n",
    "    else:\n",
    "        return fibonacci (num - 2) + fibonacci (num - 1)\n",
    "\n",
    "print (fibonacci(6))"
   ]
  },
  {
   "cell_type": "code",
   "execution_count": 7,
   "id": "46e41055-7844-402c-8717-cb5c7dd9c2ad",
   "metadata": {},
   "outputs": [
    {
     "name": "stdout",
     "output_type": "stream",
     "text": [
      "[1, 1, 2, 3, 5, 8, 13, 21]\n"
     ]
    }
   ],
   "source": [
    "def print_fibonacci_series(num):\n",
    "    if num == 1:\n",
    "        return [1]\n",
    "    elif num == 2:\n",
    "        return [1, 1]\n",
    "    else:\n",
    "        series = print_fibonacci_series(num - 1)\n",
    "        series.append(series[-1]+series[-2])\n",
    "        return series\n",
    "print (print_fibonacci_series(8))"
   ]
  },
  {
   "cell_type": "code",
   "execution_count": null,
   "id": "577763fd-9497-450b-a7ba-a695c4809fe8",
   "metadata": {},
   "outputs": [],
   "source": []
  }
 ],
 "metadata": {
  "kernelspec": {
   "display_name": "Python 3 (ipykernel)",
   "language": "python",
   "name": "python3"
  },
  "language_info": {
   "codemirror_mode": {
    "name": "ipython",
    "version": 3
   },
   "file_extension": ".py",
   "mimetype": "text/x-python",
   "name": "python",
   "nbconvert_exporter": "python",
   "pygments_lexer": "ipython3",
   "version": "3.11.3"
  }
 },
 "nbformat": 4,
 "nbformat_minor": 5
}
