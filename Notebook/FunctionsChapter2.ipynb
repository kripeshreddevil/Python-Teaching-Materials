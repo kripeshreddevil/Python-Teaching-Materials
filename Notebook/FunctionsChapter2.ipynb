{
 "cells": [
  {
   "cell_type": "markdown",
   "id": "05065988-3a80-4a03-a09b-c6e0246c8710",
   "metadata": {},
   "source": [
    "# Docstrings"
   ]
  },
  {
   "cell_type": "code",
   "execution_count": 1,
   "id": "75ab38df-411d-43a3-9408-89ee54f59a95",
   "metadata": {},
   "outputs": [],
   "source": [
    "def welcome():\n",
    "    '''This function will ask the user and ask them how they are doing'''\n",
    "    print (\"Hello, how are you?\")\n"
   ]
  },
  {
   "cell_type": "code",
   "execution_count": 2,
   "id": "32a0a276-9396-402a-9ade-fadb7615aa17",
   "metadata": {},
   "outputs": [
    {
     "name": "stdout",
     "output_type": "stream",
     "text": [
      "Hello, how are you?\n"
     ]
    }
   ],
   "source": [
    "#Genrally, the first string we include after a function header is called the docstring. We use it to explain what the function does.\n",
    "welcome()"
   ]
  },
  {
   "cell_type": "code",
   "execution_count": 3,
   "id": "9fd9a87d-4337-490b-bad4-149709db7b34",
   "metadata": {},
   "outputs": [
    {
     "data": {
      "text/plain": [
       "'This function will ask the user and ask them how they are doing'"
      ]
     },
     "execution_count": 3,
     "metadata": {},
     "output_type": "execute_result"
    }
   ],
   "source": [
    "welcome.__doc__"
   ]
  },
  {
   "cell_type": "code",
   "execution_count": 7,
   "id": "33b001b8-9727-4240-ab1d-8bde1270f119",
   "metadata": {},
   "outputs": [
    {
     "name": "stdout",
     "output_type": "stream",
     "text": [
      "Built-in mutable sequence.\n",
      "\n",
      "If no argument is given, the constructor creates a new empty list.\n",
      "The argument must be an iterable if specified.\n"
     ]
    }
   ],
   "source": [
    "print ([].__doc__)"
   ]
  },
  {
   "cell_type": "code",
   "execution_count": 8,
   "id": "e3661457-fdf5-448a-be4d-fd01c8e4a71b",
   "metadata": {},
   "outputs": [
    {
     "name": "stdout",
     "output_type": "stream",
     "text": [
      "Equivalent to base**exp with 2 arguments or base**exp % mod with 3 arguments\n",
      "\n",
      "Some types, such as ints, are able to use a more efficient algorithm when\n",
      "invoked using the three argument form.\n"
     ]
    }
   ],
   "source": [
    "print (pow.__doc__)"
   ]
  },
  {
   "cell_type": "markdown",
   "id": "97c81f5a-a8c1-414d-a6dd-5df0e8e3e340",
   "metadata": {},
   "source": [
    "# The return statement"
   ]
  },
  {
   "cell_type": "code",
   "execution_count": 23,
   "id": "61610d14-5318-4947-b96b-382b42debfdb",
   "metadata": {},
   "outputs": [],
   "source": [
    "def greet():\n",
    "    ''' This is a greeting function '''\n",
    "    return  \" Good morning. Have a wonderful day ahead. \""
   ]
  },
  {
   "cell_type": "code",
   "execution_count": 20,
   "id": "2ed35d47-48c5-4b5f-930e-5fc92c5fbbe6",
   "metadata": {},
   "outputs": [
    {
     "data": {
      "text/plain": [
       "function"
      ]
     },
     "execution_count": 20,
     "metadata": {},
     "output_type": "execute_result"
    }
   ],
   "source": [
    "type(greet)"
   ]
  },
  {
   "cell_type": "code",
   "execution_count": 15,
   "id": "6f21d054-0feb-4a00-beeb-54f7a3171be8",
   "metadata": {},
   "outputs": [
    {
     "data": {
      "text/plain": [
       "str"
      ]
     },
     "execution_count": 15,
     "metadata": {},
     "output_type": "execute_result"
    }
   ],
   "source": [
    "type(greet())"
   ]
  },
  {
   "cell_type": "code",
   "execution_count": 18,
   "id": "99773860-09e7-4a8d-8766-8b992bf3d5d7",
   "metadata": {},
   "outputs": [
    {
     "data": {
      "text/plain": [
       "str"
      ]
     },
     "execution_count": 18,
     "metadata": {},
     "output_type": "execute_result"
    }
   ],
   "source": [
    "type(\"Hello\")"
   ]
  },
  {
   "cell_type": "code",
   "execution_count": 24,
   "id": "fceeafe2-ba1d-422d-8695-92fde5263d3d",
   "metadata": {},
   "outputs": [
    {
     "data": {
      "text/plain": [
       "' GOOD MORNING. HAVE A WONDERFUL DAY AHEAD. '"
      ]
     },
     "execution_count": 24,
     "metadata": {},
     "output_type": "execute_result"
    }
   ],
   "source": [
    "greet().upper()"
   ]
  },
  {
   "cell_type": "code",
   "execution_count": 41,
   "id": "930a7b9a-2c8a-44dc-9f20-9311627ce563",
   "metadata": {},
   "outputs": [],
   "source": [
    "def greet():\n",
    "    ''' This is a greeting function '''\n",
    "    return ( \" Good morning. Have a wonderful day ahead. \")"
   ]
  },
  {
   "cell_type": "code",
   "execution_count": 42,
   "id": "fdc06310-f234-488b-ac4b-e435e03d28b6",
   "metadata": {},
   "outputs": [
    {
     "data": {
      "text/plain": [
       "function"
      ]
     },
     "execution_count": 42,
     "metadata": {},
     "output_type": "execute_result"
    }
   ],
   "source": [
    "type(greet)"
   ]
  },
  {
   "cell_type": "code",
   "execution_count": 43,
   "id": "c52ef6f0-2bca-4b55-82b1-c2dcdf3d2134",
   "metadata": {},
   "outputs": [
    {
     "data": {
      "text/plain": [
       "function"
      ]
     },
     "execution_count": 43,
     "metadata": {},
     "output_type": "execute_result"
    }
   ],
   "source": [
    "type(greet)"
   ]
  },
  {
   "cell_type": "code",
   "execution_count": 44,
   "id": "25bd15fe-4efd-4559-b288-f8a72b232e74",
   "metadata": {},
   "outputs": [
    {
     "data": {
      "text/plain": [
       "str"
      ]
     },
     "execution_count": 44,
     "metadata": {},
     "output_type": "execute_result"
    }
   ],
   "source": [
    "type(greet())"
   ]
  },
  {
   "cell_type": "code",
   "execution_count": 46,
   "id": "a6bc9d5d-91d8-4d52-a2cb-cb63d0fb0104",
   "metadata": {},
   "outputs": [
    {
     "data": {
      "text/plain": [
       "' GOOD MORNING. HAVE A WONDERFUL DAY AHEAD. '"
      ]
     },
     "execution_count": 46,
     "metadata": {},
     "output_type": "execute_result"
    }
   ],
   "source": [
    "greet().upper()"
   ]
  },
  {
   "cell_type": "code",
   "execution_count": 25,
   "id": "5c0fff46-efe5-4e67-bed0-1e344cf088ae",
   "metadata": {},
   "outputs": [],
   "source": [
    "def the_doubler(num):\n",
    "    result = num * 2\n",
    "    return result"
   ]
  },
  {
   "cell_type": "code",
   "execution_count": 27,
   "id": "74e13768-08f2-4925-96df-7bb28cc4bfff",
   "metadata": {},
   "outputs": [
    {
     "data": {
      "text/plain": [
       "str"
      ]
     },
     "execution_count": 27,
     "metadata": {},
     "output_type": "execute_result"
    }
   ],
   "source": [
    "type (the_doubler('4'))"
   ]
  },
  {
   "cell_type": "code",
   "execution_count": 28,
   "id": "52242451-771a-4bf7-a374-29fa2c6b53ce",
   "metadata": {},
   "outputs": [
    {
     "data": {
      "text/plain": [
       "512"
      ]
     },
     "execution_count": 28,
     "metadata": {},
     "output_type": "execute_result"
    }
   ],
   "source": [
    "pow(the_doubler(4),3)"
   ]
  },
  {
   "cell_type": "markdown",
   "id": "ad8b6b04-46e2-4f7f-a45b-5601c0ef14fc",
   "metadata": {},
   "source": [
    "# Parameters and Arguments"
   ]
  },
  {
   "cell_type": "code",
   "execution_count": 54,
   "id": "9df858d7-1b5a-4231-8297-90e177be3141",
   "metadata": {},
   "outputs": [
    {
     "name": "stdout",
     "output_type": "stream",
     "text": [
      "My name is John Doe.\n",
      "My name is Jane Smith.\n"
     ]
    }
   ],
   "source": [
    "# Define a function with two parameters\n",
    "def introduce(first_name, last_name):\n",
    "    print(f\"My name is {first_name} {last_name}.\")\n",
    "\n",
    "# Call the function with positional arguments\n",
    "introduce(\"John\", \"Doe\")  # Output: My name is John Doe.\n",
    "introduce(\"Jane\", \"Smith\")  # Output: My name is Jane Smith.\n"
   ]
  },
  {
   "cell_type": "markdown",
   "id": "288e41e9-e43a-4136-b6be-11a82dd31195",
   "metadata": {},
   "source": [
    "# Keyword Argument and Default Values"
   ]
  },
  {
   "cell_type": "code",
   "execution_count": 55,
   "id": "257ba459-d205-415f-9fb8-135249d0c315",
   "metadata": {},
   "outputs": [
    {
     "name": "stdout",
     "output_type": "stream",
     "text": [
      "Hello, Alice! You are 25 years old.\n",
      "Hello, Bob! You are 30 years old.\n"
     ]
    }
   ],
   "source": [
    "#Keyword Argument\n",
    "\n",
    "def greet(name, age):\n",
    "    print(f\"Hello, {name}! You are {age} years old.\")\n",
    "\n",
    "# Using keyword arguments\n",
    "greet(name=\"Alice\", age=25)  # Output: Hello, Alice! You are 25 years old.\n",
    "greet(age=30, name=\"Bob\")    # Output: Hello, Bob! You are 30 years old.\n"
   ]
  },
  {
   "cell_type": "code",
   "execution_count": null,
   "id": "1cc93e80-2b8e-48eb-8c75-b2104ec05917",
   "metadata": {},
   "outputs": [],
   "source": [
    "#Default Values\n",
    "\n",
    "def greet(name, age):\n",
    "    print(f\"Hello, {name}! You are {age} years old.\")\n",
    "\n",
    "# Using keyword arguments\n",
    "greet(name=\"Alice\", age=25)  # Output: Hello, Alice! You are 25 years old.\n",
    "greet(age=30, name=\"Bob\")    # Output: Hello, Bob! You are 30 years old.\n"
   ]
  },
  {
   "cell_type": "code",
   "execution_count": 29,
   "id": "f65a15b6-10a3-40e0-ac8a-173db1a362f6",
   "metadata": {},
   "outputs": [
    {
     "ename": "SyntaxError",
     "evalue": "f-string: empty expression not allowed (2788427133.py, line 3)",
     "output_type": "error",
     "traceback": [
      "\u001b[1;36m  Cell \u001b[1;32mIn[29], line 3\u001b[1;36m\u001b[0m\n\u001b[1;33m    print(f\"Hello, {}! You are {} years old.\")\u001b[0m\n\u001b[1;37m                                             ^\u001b[0m\n\u001b[1;31mSyntaxError\u001b[0m\u001b[1;31m:\u001b[0m f-string: empty expression not allowed\n"
     ]
    }
   ],
   "source": [
    "#Default Values\n",
    "def greet(name=\"Guest\", age=0):\n",
    "    print(f\"Hello, {name}! You are {age} years old.\")\n",
    "\n",
    "# Providing both arguments\n",
    "greet(name=\"Charlie\", age=35)  # Output: Hello, Charlie! You are 35 years old.\n",
    "\n",
    "# Providing only one argument\n",
    "greet(name=\"Daisy\")  # Output: Hello, Daisy! You are 0 years old.\n",
    "\n",
    "# Providing no arguments (using all defaults)\n",
    "greet()  # Output: Hello, Guest! You are 0 years old.\n"
   ]
  },
  {
   "cell_type": "code",
   "execution_count": 57,
   "id": "03260cb8-f9c3-484c-8af5-e0f4c57aa5eb",
   "metadata": {},
   "outputs": [
    {
     "name": "stdout",
     "output_type": "stream",
     "text": [
      "I have a dog named Buddy.\n",
      "I have a cat named Whiskers.\n",
      "I have a parrot named Polly.\n"
     ]
    }
   ],
   "source": [
    "# Combining Positional, Keyword Arguments, and Default Values\n",
    "\n",
    "def describe_pet(pet_name, pet_type=\"dog\"):\n",
    "    print(f\"I have a {pet_type} named {pet_name}.\")\n",
    "\n",
    "# Positional argument for pet_name, default for pet_type\n",
    "describe_pet(\"Buddy\")  # Output: I have a dog named Buddy.\n",
    "\n",
    "# Keyword argument for pet_type\n",
    "describe_pet(\"Whiskers\", pet_type=\"cat\")  # Output: I have a cat named Whiskers.\n",
    "\n",
    "# Keyword arguments in any order\n",
    "describe_pet(pet_type=\"parrot\", pet_name=\"Polly\")  # Output: I have a parrot named Polly.\n"
   ]
  },
  {
   "cell_type": "markdown",
   "id": "7a16f804-6ab3-41cb-9e76-e057e577826a",
   "metadata": {},
   "source": [
    "# Using .format() Method (Introduced in Python 2.7 and 3.0)"
   ]
  },
  {
   "cell_type": "code",
   "execution_count": 58,
   "id": "f8df6aa1-9abd-47ac-b8f9-43470c7a37e3",
   "metadata": {},
   "outputs": [
    {
     "name": "stdout",
     "output_type": "stream",
     "text": [
      "Hello, Bob! You are 30 years old.\n"
     ]
    }
   ],
   "source": [
    "name = \"Bob\"\n",
    "age = 30\n",
    "greeting = \"Hello, {}! You are {} years old.\".format(name, age)\n",
    "print(greeting)\n",
    "# Output: Hello, Bob! You are 30 years old.\n"
   ]
  },
  {
   "cell_type": "code",
   "execution_count": 59,
   "id": "f58975dc-064c-45ec-a6a4-1a72bc7e2109",
   "metadata": {},
   "outputs": [
    {
     "name": "stdout",
     "output_type": "stream",
     "text": [
      "Hello, Bob! You are 30 years old.\n"
     ]
    }
   ],
   "source": [
    "greeting = \"Hello, {0}! You are {1} years old.\".format(name, age)\n",
    "print(greeting)\n",
    "# Output: Hello, Bob! You are 30 years old.\n"
   ]
  },
  {
   "cell_type": "code",
   "execution_count": 60,
   "id": "994dea2a-725a-4ec1-ab54-3122a5be98a0",
   "metadata": {},
   "outputs": [
    {
     "name": "stdout",
     "output_type": "stream",
     "text": [
      "Hello, Charlie! You are 35 years old.\n"
     ]
    }
   ],
   "source": [
    "greeting = \"Hello, {name}! You are {age} years old.\".format(name=\"Charlie\", age=35)\n",
    "print(greeting)\n",
    "# Output: Hello, Charlie! You are 35 years old.\n"
   ]
  },
  {
   "cell_type": "markdown",
   "id": "3815e330-7018-45ed-81de-1c0443bc55e8",
   "metadata": {},
   "source": [
    "# args and kwargs"
   ]
  },
  {
   "cell_type": "markdown",
   "id": "d632fb1d-62c8-4f61-bada-671e1b485323",
   "metadata": {},
   "source": [
    "# *args (Positional Arguments)"
   ]
  },
  {
   "cell_type": "code",
   "execution_count": 65,
   "id": "88176382-7e35-457c-a8c2-416dfead8a5d",
   "metadata": {},
   "outputs": [],
   "source": [
    "# Allows a function to accept a variable number of positional arguments.\n",
    "# Inside the function, *args is treated as a tuple of the passed arguments.\n",
    "def game_players(*names):\n",
    "    for name in names:\n",
    "        print(\"Hello \" + name)"
   ]
  },
  {
   "cell_type": "code",
   "execution_count": 66,
   "id": "ed600f2f-0367-4bd0-8d12-50492446e9c8",
   "metadata": {},
   "outputs": [
    {
     "name": "stdout",
     "output_type": "stream",
     "text": [
      "Hello Sally\n",
      "Hello James\n",
      "Hello Anna\n",
      "Hello Tim\n"
     ]
    }
   ],
   "source": [
    "game_players(\"Sally\", \"James\", \"Anna\", \"Tim\")"
   ]
  },
  {
   "cell_type": "code",
   "execution_count": 67,
   "id": "a914eecd-c711-4fa7-b33e-821556bcc84d",
   "metadata": {},
   "outputs": [
    {
     "name": "stdout",
     "output_type": "stream",
     "text": [
      "Hello Ben\n",
      "Hello Sam\n"
     ]
    }
   ],
   "source": [
    "game_players(\"Ben\", \"Sam\")"
   ]
  },
  {
   "cell_type": "code",
   "execution_count": 69,
   "id": "88ea6d25-fdda-4bb9-b661-9c396f24d191",
   "metadata": {},
   "outputs": [],
   "source": [
    "def add_machine(a, b, c):\n",
    "    total = a+b+c\n",
    "    return total"
   ]
  },
  {
   "cell_type": "code",
   "execution_count": 70,
   "id": "48903a50-1522-452c-837b-6bb20a51154b",
   "metadata": {},
   "outputs": [
    {
     "data": {
      "text/plain": [
       "14"
      ]
     },
     "execution_count": 70,
     "metadata": {},
     "output_type": "execute_result"
    }
   ],
   "source": [
    "add_machine(1,5,8)"
   ]
  },
  {
   "cell_type": "code",
   "execution_count": 71,
   "id": "477503b0-279b-4908-b57a-b2608b406360",
   "metadata": {},
   "outputs": [
    {
     "ename": "TypeError",
     "evalue": "add_machine() takes 3 positional arguments but 4 were given",
     "output_type": "error",
     "traceback": [
      "\u001b[1;31m---------------------------------------------------------------------------\u001b[0m",
      "\u001b[1;31mTypeError\u001b[0m                                 Traceback (most recent call last)",
      "Cell \u001b[1;32mIn[71], line 1\u001b[0m\n\u001b[1;32m----> 1\u001b[0m add_machine(\u001b[38;5;241m1\u001b[39m, \u001b[38;5;241m2\u001b[39m, \u001b[38;5;241m4\u001b[39m, \u001b[38;5;241m8\u001b[39m)\n",
      "\u001b[1;31mTypeError\u001b[0m: add_machine() takes 3 positional arguments but 4 were given"
     ]
    }
   ],
   "source": [
    "add_machine(1, 2, 4, 8)"
   ]
  },
  {
   "cell_type": "code",
   "execution_count": 73,
   "id": "27b4aab1-f93b-480f-b1e3-3a052053e7a9",
   "metadata": {},
   "outputs": [],
   "source": [
    "def add_machine(*nums):\n",
    "    total = 0\n",
    "    for num in nums:\n",
    "        total += num\n",
    "    return total"
   ]
  },
  {
   "cell_type": "code",
   "execution_count": 74,
   "id": "20594513-0634-405e-a5e2-a537a1311c97",
   "metadata": {},
   "outputs": [
    {
     "data": {
      "text/plain": [
       "25"
      ]
     },
     "execution_count": 74,
     "metadata": {},
     "output_type": "execute_result"
    }
   ],
   "source": [
    "add_machine(1, 3, 5, 7, 9)"
   ]
  },
  {
   "cell_type": "code",
   "execution_count": 75,
   "id": "35a178f1-94fd-4fbc-8c60-868581a41653",
   "metadata": {},
   "outputs": [
    {
     "data": {
      "text/plain": [
       "6"
      ]
     },
     "execution_count": 75,
     "metadata": {},
     "output_type": "execute_result"
    }
   ],
   "source": [
    "add_machine(2,4)"
   ]
  },
  {
   "cell_type": "markdown",
   "id": "126f1e5a-a823-4bdd-92f7-cf23919f5b7e",
   "metadata": {},
   "source": [
    "# **kwargs (Keyword Arguments)"
   ]
  },
  {
   "cell_type": "code",
   "execution_count": 2,
   "id": "23c9b6a2-dabe-466a-9294-ae46d71a2d56",
   "metadata": {},
   "outputs": [
    {
     "name": "stdout",
     "output_type": "stream",
     "text": [
      "{'name': 'Alice', 'age': 25, 'city': 'New York'}\n"
     ]
    }
   ],
   "source": [
    "# Allows a function to accept a variable number of keyword arguments.\n",
    "# Inside the function, **kwargs is treated as a dictionary where keys are the argument names, and values are the passed values.\n",
    "def print_kwargs(**kwargs):\n",
    "    print(kwargs)\n",
    "\n",
    "print_kwargs(name=\"Alice\", age=25, city=\"New York\")\n",
    "\n",
    "\n",
    "# Here, The function receives three keyword arguments: name, age, and city.\n",
    "# **kwargs collects these into a dictionary"
   ]
  },
  {
   "cell_type": "markdown",
   "id": "25531709-092e-4a72-bbcd-6ec9592d1547",
   "metadata": {},
   "source": [
    "# Accessing **kwargs"
   ]
  },
  {
   "cell_type": "code",
   "execution_count": 3,
   "id": "b716d46a-8530-4e44-9e82-e4a4d1d74991",
   "metadata": {},
   "outputs": [
    {
     "name": "stdout",
     "output_type": "stream",
     "text": [
      "Name: Alice\n",
      "Age: 25\n",
      "City: New York\n"
     ]
    }
   ],
   "source": [
    "#You can treat kwargs as a regular dictionary and access its keys and values.\n",
    "\n",
    "def describe_person(**kwargs):\n",
    "    for key, value in kwargs.items():\n",
    "        print(f\"{key.capitalize()}: {value}\")\n",
    "\n",
    "describe_person(name=\"Alice\", age=25, city=\"New York\")\n",
    "\n",
    "#Here, kwargs.items() iterates over the dictionary created by **kwargs.\n"
   ]
  },
  {
   "cell_type": "markdown",
   "id": "81f93c91-25ea-4d11-ae6e-53e3f6854fa5",
   "metadata": {},
   "source": [
    "# Default Argument with **kwargs"
   ]
  },
  {
   "cell_type": "code",
   "execution_count": 4,
   "id": "df3c09a5-a12c-419c-8669-221f7582bf1e",
   "metadata": {},
   "outputs": [
    {
     "name": "stdout",
     "output_type": "stream",
     "text": [
      "Car: Toyota Camry\n",
      "Color: Blue\n",
      "Year: 2020\n",
      "Seats: 4\n"
     ]
    }
   ],
   "source": [
    "#You can combine **kwargs with default arguments. If a keyword argument isn’t provided, you can use a default value.\n",
    "\n",
    "def describe_car(make, model, **kwargs):\n",
    "    print(f\"Car: {make} {model}\")\n",
    "    for key, value in kwargs.items():\n",
    "        print(f\"{key.capitalize()}: {value}\")\n",
    "\n",
    "describe_car(\"Toyota\", \"Camry\", color=\"Blue\", year=2020, seats = 4)\n"
   ]
  },
  {
   "cell_type": "markdown",
   "id": "a9d30a40-9fd5-400d-b1f3-e37bf228836e",
   "metadata": {},
   "source": [
    "# Combining *args and **kwargs\n"
   ]
  },
  {
   "cell_type": "code",
   "execution_count": 36,
   "id": "45efc6cc-2d38-4d7b-9ddd-497eef55b41e",
   "metadata": {},
   "outputs": [
    {
     "name": "stdout",
     "output_type": "stream",
     "text": [
      "Positional arguments: (1, 2, 3, 10, 20)\n",
      "Keyword arguments: {'name': 'Alice', 'age': 25, 'city': 'New York'}\n"
     ]
    }
   ],
   "source": [
    "def mixed_function(*args, **kwargs):\n",
    "    print(f\"Positional arguments: {args}\")\n",
    "    print(f\"Keyword arguments: {kwargs}\")\n",
    "\n",
    "mixed_function(1, 2, 3, 10, 20, name=\"Alice\", age=25, city = \"New York\")\n",
    "# Output:\n",
    "\n",
    "# *args collects the positional arguments (1, 2, 3) into a tuple.\n",
    "# **kwargs collects the keyword arguments (name=\"Alice\", age=25) into a dictionary.\n"
   ]
  },
  {
   "cell_type": "markdown",
   "id": "e1217cd5-4197-4e0c-a22f-16ade9386bf4",
   "metadata": {},
   "source": [
    "# Unpacking a Dictionary with **kwargs\n"
   ]
  },
  {
   "cell_type": "code",
   "execution_count": 91,
   "id": "541fcd83-6a5b-4fd3-80a0-4c1c7d935789",
   "metadata": {},
   "outputs": [
    {
     "name": "stdout",
     "output_type": "stream",
     "text": [
      "Hello, Alice! You are 25 years old.\n"
     ]
    }
   ],
   "source": [
    "# You can use **kwargs to unpack a dictionary into a function call.\n",
    "\n",
    "def greet(name, age):\n",
    "    print(f\"Hello, {name}! You are {age} years old.\")\n",
    "    \n",
    "person = {\"name\": \"Alice\", \"age\": 25}\n",
    "\n",
    "# Pass the dictionary using **kwargs\n",
    "greet(**person)\n",
    "\n",
    "# The dictionary {\"name\": \"Alice\", \"age\": 25} is unpacked, and its keys and values are passed as keyword arguments to the function.\n"
   ]
  },
  {
   "cell_type": "markdown",
   "id": "6d7efd43-9ea2-4c84-9e8e-de7803f01991",
   "metadata": {},
   "source": [
    "# *args and **kwargs Together"
   ]
  },
  {
   "cell_type": "code",
   "execution_count": 92,
   "id": "a1e27f09-121e-4c92-990e-0cc903e867fc",
   "metadata": {},
   "outputs": [
    {
     "name": "stdout",
     "output_type": "stream",
     "text": [
      "Taking order...\n",
      "Food: Burger, Drink: Coke\n",
      "Extra_sauce: True\n",
      "Gluten_free: False\n"
     ]
    }
   ],
   "source": [
    "def display_order(food, drink, **kwargs):\n",
    "    print(f\"Food: {food}, Drink: {drink}\")\n",
    "    for key, value in kwargs.items():\n",
    "        print(f\"{key.capitalize()}: {value}\")\n",
    "\n",
    "def take_order(*args, **kwargs):\n",
    "    print(\"Taking order...\")\n",
    "    display_order(*args, **kwargs)\n",
    "\n",
    "# Call the wrapper function\n",
    "take_order(\"Burger\", \"Coke\", extra_sauce=True, gluten_free=False)\n"
   ]
  },
  {
   "cell_type": "code",
   "execution_count": 93,
   "id": "89ed6be4-0918-45eb-8ae0-e5d85f1cfc1a",
   "metadata": {},
   "outputs": [
    {
     "name": "stdout",
     "output_type": "stream",
     "text": [
      "Before calling the target function...\n",
      "Name: Alice, Age: 25\n",
      "After calling the target function...\n"
     ]
    }
   ],
   "source": [
    "# Function to print details (target function)\n",
    "def print_function(name, age):\n",
    "    print(f\"Name: {name}, Age: {age}\")\n",
    "\n",
    "# Wrapper function that forwards arguments\n",
    "def wrapper_function(*args, **kwargs):\n",
    "    print(\"Before calling the target function...\")\n",
    "    # Forwarding arguments to print_function\n",
    "    print_function(*args, **kwargs)\n",
    "    print(\"After calling the target function...\")\n",
    "\n",
    "# Call the wrapper with arguments\n",
    "wrapper_function(name=\"Alice\", age=25)"
   ]
  }
 ],
 "metadata": {
  "kernelspec": {
   "display_name": "Python 3 (ipykernel)",
   "language": "python",
   "name": "python3"
  },
  "language_info": {
   "codemirror_mode": {
    "name": "ipython",
    "version": 3
   },
   "file_extension": ".py",
   "mimetype": "text/x-python",
   "name": "python",
   "nbconvert_exporter": "python",
   "pygments_lexer": "ipython3",
   "version": "3.11.3"
  }
 },
 "nbformat": 4,
 "nbformat_minor": 5
}
