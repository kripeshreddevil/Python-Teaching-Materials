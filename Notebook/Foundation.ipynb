{
 "cells": [
  {
   "cell_type": "code",
   "execution_count": 1,
   "id": "24fafa20-87f7-4de9-93d2-aaebcc8096d7",
   "metadata": {},
   "outputs": [
    {
     "name": "stdout",
     "output_type": "stream",
     "text": [
      "Hello\n"
     ]
    }
   ],
   "source": [
    "# This is a python print function that is used to print something on the screen\n",
    "print (\"Hello\")"
   ]
  },
  {
   "cell_type": "code",
   "execution_count": 3,
   "id": "33ba5e5b-992a-440a-8f61-fabb8a78ab4e",
   "metadata": {},
   "outputs": [
    {
     "name": "stdout",
     "output_type": "stream",
     "text": [
      "<class 'int'>\n"
     ]
    }
   ],
   "source": [
    "daily_steps = 10000 \n",
    "print(type(daily_steps))\n"
   ]
  },
  {
   "cell_type": "code",
   "execution_count": 4,
   "id": "61550398-a278-4e7b-9642-a5cd23a824df",
   "metadata": {},
   "outputs": [
    {
     "name": "stdout",
     "output_type": "stream",
     "text": [
      "<class 'float'>\n"
     ]
    }
   ],
   "source": [
    "weight = 72.5 \n",
    "# this variable is storing a floating-point number \n",
    "print(type(weight))"
   ]
  },
  {
   "cell_type": "code",
   "execution_count": 5,
   "id": "5a1f19a6-e910-40ac-a46d-164095fdcaa4",
   "metadata": {},
   "outputs": [
    {
     "name": "stdout",
     "output_type": "stream",
     "text": [
      "<class 'str'>\n"
     ]
    }
   ],
   "source": [
    "first_name = \"Ram\"\n",
    "print (type(first_name))"
   ]
  },
  {
   "cell_type": "code",
   "execution_count": 12,
   "id": "eb294cc2-8549-44ea-a431-72a1ae748532",
   "metadata": {},
   "outputs": [
    {
     "name": "stdout",
     "output_type": "stream",
     "text": [
      "2.0\n"
     ]
    }
   ],
   "source": [
    "result = 5.0 // 2 # float division \n",
    "print(result) \n"
   ]
  },
  {
   "cell_type": "code",
   "execution_count": 16,
   "id": "5b7433c8-78e4-451e-93f7-9b463dd51699",
   "metadata": {},
   "outputs": [
    {
     "name": "stdout",
     "output_type": "stream",
     "text": [
      "5\n"
     ]
    }
   ],
   "source": [
    "x = 125  # int\n",
    "y = 10  # float\n",
    "print(x % y) \n"
   ]
  },
  {
   "cell_type": "code",
   "execution_count": 19,
   "id": "429d93ac-bd36-474d-b191-2904c11d0669",
   "metadata": {},
   "outputs": [
    {
     "name": "stdout",
     "output_type": "stream",
     "text": [
      "81\n"
     ]
    }
   ],
   "source": [
    "x = 3\n",
    "y = 4\n",
    "\n",
    "print ( x ** y)"
   ]
  },
  {
   "cell_type": "code",
   "execution_count": 20,
   "id": "bde6aa8e-5203-4406-b944-3377e9fe500f",
   "metadata": {},
   "outputs": [
    {
     "name": "stdout",
     "output_type": "stream",
     "text": [
      "15\n"
     ]
    }
   ],
   "source": [
    "x = 10  # Assign 10 to variable x\n",
    "y = x + 5  # Use x to calculate a new value for y\n",
    "print(y)\n"
   ]
  },
  {
   "cell_type": "code",
   "execution_count": 22,
   "id": "ddde5fc1-08e1-4f1f-b434-f0cd099dcfa9",
   "metadata": {},
   "outputs": [
    {
     "name": "stdout",
     "output_type": "stream",
     "text": [
      "Initial profit: 400\n",
      "The initial profit is 400 Rs.\n",
      "The profit is 400 Rs.\n"
     ]
    }
   ],
   "source": [
    "sales = 1000  # Initial sales amount in dollars\n",
    "cost = 600  # Cost of the products\n",
    "\n",
    "# Calculate initial profit\n",
    "profit = sales - cost\n",
    "print(\"Initial profit:\", profit) \n",
    "print (\"The initial profit is \" + str(profit) + \" Rs.\")\n",
    "print (f'The profit is {profit} Rs.')\n"
   ]
  },
  {
   "cell_type": "code",
   "execution_count": 23,
   "id": "1fc71194-873d-4769-8886-67e8c51147a3",
   "metadata": {},
   "outputs": [
    {
     "name": "stdout",
     "output_type": "stream",
     "text": [
      "ab\n"
     ]
    }
   ],
   "source": [
    "x = \"a\"\n",
    "y = \"b\"\n",
    "\n",
    "print (x + y)"
   ]
  },
  {
   "cell_type": "code",
   "execution_count": 1,
   "id": "5ea4457a-cfa5-4d70-8d2f-c74e02b335df",
   "metadata": {},
   "outputs": [
    {
     "name": "stdout",
     "output_type": "stream",
     "text": [
      "<class 'list'>\n"
     ]
    }
   ],
   "source": [
    "x = [1, 35, 2, 7, 2,]\n",
    "print(type(x))"
   ]
  },
  {
   "cell_type": "code",
   "execution_count": 2,
   "id": "677ab966-5505-4afe-82b8-da3d44e782c0",
   "metadata": {},
   "outputs": [],
   "source": [
    "y = set(x)"
   ]
  },
  {
   "cell_type": "code",
   "execution_count": 3,
   "id": "055f6eed-65f6-4322-96d8-b2622579f679",
   "metadata": {},
   "outputs": [
    {
     "name": "stdout",
     "output_type": "stream",
     "text": [
      "<class 'set'>\n"
     ]
    }
   ],
   "source": [
    "print(type(y))"
   ]
  },
  {
   "cell_type": "code",
   "execution_count": 4,
   "id": "b710747d-55b4-41aa-9f2e-3742d540543a",
   "metadata": {},
   "outputs": [
    {
     "name": "stdout",
     "output_type": "stream",
     "text": [
      "{1, 2, 35, 7}\n"
     ]
    }
   ],
   "source": [
    "print(y)"
   ]
  },
  {
   "cell_type": "code",
   "execution_count": 5,
   "id": "c41791e6-9ab9-44f5-a686-6165e0098c97",
   "metadata": {},
   "outputs": [
    {
     "name": "stdout",
     "output_type": "stream",
     "text": [
      "1\n",
      "3\n",
      "5\n"
     ]
    }
   ],
   "source": [
    "for a in [\"www.google.com\",\"www.facebook.com\",\"www.x.com\"]:\n",
    "    "
   ]
  },
  {
   "cell_type": "code",
   "execution_count": 7,
   "id": "44b300cf-fe0c-4078-be70-f15f7d070dda",
   "metadata": {},
   "outputs": [
    {
     "name": "stdout",
     "output_type": "stream",
     "text": [
      "<class 'tuple'>\n"
     ]
    }
   ],
   "source": [
    "x = (1,)\n",
    "print(type(x))"
   ]
  },
  {
   "cell_type": "code",
   "execution_count": 13,
   "id": "2e10ee9b-5328-4361-8734-19f077aa4289",
   "metadata": {},
   "outputs": [
    {
     "name": "stdout",
     "output_type": "stream",
     "text": [
      "16\n",
      "22\n"
     ]
    }
   ],
   "source": [
    "def additionOfTwoNumbers():\n",
    "    print \"\"\n",
    "\n",
    "print(additionOfTwoNumbers(9, 7))\n",
    "print(additionOfTwoNumbers(10, 12))\n",
    "\n",
    "# print(add(8,7))"
   ]
  },
  {
   "cell_type": "code",
   "execution_count": 9,
   "id": "3c8dd4a8-cdf8-4cf7-85c0-354b84198811",
   "metadata": {},
   "outputs": [
    {
     "name": "stdout",
     "output_type": "stream",
     "text": [
      "15\n"
     ]
    }
   ],
   "source": [
    "x = 8\n",
    "y = 7\n",
    "a = 10\n",
    "b = 15\n",
    "print(x+y)\n",
    "print(a+b)"
   ]
  },
  {
   "cell_type": "code",
   "execution_count": null,
   "id": "1b0d0ca0-85c2-475c-9433-49b86304d192",
   "metadata": {},
   "outputs": [],
   "source": []
  }
 ],
 "metadata": {
  "kernelspec": {
   "display_name": "Python 3 (ipykernel)",
   "language": "python",
   "name": "python3"
  },
  "language_info": {
   "codemirror_mode": {
    "name": "ipython",
    "version": 3
   },
   "file_extension": ".py",
   "mimetype": "text/x-python",
   "name": "python",
   "nbconvert_exporter": "python",
   "pygments_lexer": "ipython3",
   "version": "3.11.3"
  }
 },
 "nbformat": 4,
 "nbformat_minor": 5
}
