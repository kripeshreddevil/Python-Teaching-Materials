{
 "cells": [
  {
   "cell_type": "markdown",
   "id": "fe4dab05-9575-463f-87db-fb5fd45b16e9",
   "metadata": {},
   "source": [
    "# Data Structure Conversion"
   ]
  },
  {
   "cell_type": "markdown",
   "id": "58f750b9-a6c1-44a6-ae48-57805642d0cb",
   "metadata": {},
   "source": [
    "# Converting a List to Other Types"
   ]
  },
  {
   "cell_type": "markdown",
   "id": "913635dc-6907-42ac-b732-39ba41cabe7b",
   "metadata": {},
   "source": [
    "# List to Tuple"
   ]
  },
  {
   "cell_type": "code",
   "execution_count": 1,
   "id": "0b3920a8-744e-486d-8609-64b9ce5b7129",
   "metadata": {},
   "outputs": [
    {
     "name": "stdout",
     "output_type": "stream",
     "text": [
      "(1, 2, 3, 4)\n"
     ]
    }
   ],
   "source": [
    "#Use the tuple() constructor:\n",
    "\n",
    "my_list = [1, 2, 3, 4]\n",
    "my_tuple = tuple(my_list)\n",
    "print(my_tuple) \n"
   ]
  },
  {
   "cell_type": "markdown",
   "id": "b32760ae-8ec6-4280-af76-8a924f8ad9d1",
   "metadata": {},
   "source": [
    "#  List to Set"
   ]
  },
  {
   "cell_type": "code",
   "execution_count": 2,
   "id": "7097ae57-f55e-4b38-83a1-89688a73182e",
   "metadata": {},
   "outputs": [
    {
     "name": "stdout",
     "output_type": "stream",
     "text": [
      "{1, 2, 3, 4}\n"
     ]
    }
   ],
   "source": [
    "# Use the set() constructor. This automatically removes duplicates (if any):\n",
    "\n",
    "my_list = [1, 2, 2, 3, 4]\n",
    "my_set = set(my_list)\n",
    "print(my_set)\n"
   ]
  },
  {
   "cell_type": "markdown",
   "id": "d0f6bb82-e9ed-4d79-ad54-8fe8a37589a8",
   "metadata": {},
   "source": [
    "# Converting a Tuple to Other Types"
   ]
  },
  {
   "cell_type": "markdown",
   "id": "05ad0fa1-f8e4-4010-aa12-cad8b35d44a6",
   "metadata": {},
   "source": [
    "# Tuple to List\n"
   ]
  },
  {
   "cell_type": "code",
   "execution_count": 4,
   "id": "366ea5ca-2064-4580-9739-786eea26aa9d",
   "metadata": {},
   "outputs": [
    {
     "name": "stdout",
     "output_type": "stream",
     "text": [
      "[1, 2, 3, 4]\n"
     ]
    }
   ],
   "source": [
    "#Use the list() constructor:\n",
    "\n",
    "my_tuple = (1, 2, 3, 4)\n",
    "my_list = list(my_tuple)\n",
    "print(my_list) "
   ]
  },
  {
   "cell_type": "markdown",
   "id": "66f61263-31d8-472e-bfa2-a7224072818f",
   "metadata": {},
   "source": [
    "# Tuple to Set"
   ]
  },
  {
   "cell_type": "code",
   "execution_count": 5,
   "id": "8d47b3c1-ff9f-4a1e-9108-d53092b713b2",
   "metadata": {},
   "outputs": [
    {
     "name": "stdout",
     "output_type": "stream",
     "text": [
      "{1, 2, 3, 4}\n"
     ]
    }
   ],
   "source": [
    "# Use the set() constructor:\n",
    "\n",
    "my_tuple = (1, 2, 2, 3, 4)\n",
    "my_set = set(my_tuple)\n",
    "print(my_set) \n"
   ]
  },
  {
   "cell_type": "markdown",
   "id": "51085812-5837-4aca-8907-034c13234efb",
   "metadata": {},
   "source": [
    "# Converting a Set to Other Types"
   ]
  },
  {
   "cell_type": "markdown",
   "id": "5fb80e86-d32a-4e40-95fe-7a6e6d81f0a1",
   "metadata": {},
   "source": [
    "# Set to List\n"
   ]
  },
  {
   "cell_type": "code",
   "execution_count": 7,
   "id": "4024fbee-ab9e-4cdb-bb4c-0fcb29ff4ecb",
   "metadata": {},
   "outputs": [
    {
     "name": "stdout",
     "output_type": "stream",
     "text": [
      "[1, 2, 3, 4]\n"
     ]
    }
   ],
   "source": [
    "#Use the list() constructor:\n",
    "my_set = {1, 2, 3, 4}\n",
    "my_list = list(my_set)\n",
    "print(my_list)\n"
   ]
  },
  {
   "cell_type": "markdown",
   "id": "c0261279-7e41-4f77-9c42-4e2fd4e6d09e",
   "metadata": {},
   "source": [
    "# Set to Tuple\n"
   ]
  },
  {
   "cell_type": "code",
   "execution_count": 8,
   "id": "cfd1d20f-8ea4-41d6-9759-cd4ad7d68dc2",
   "metadata": {},
   "outputs": [
    {
     "name": "stdout",
     "output_type": "stream",
     "text": [
      "(1, 2, 3, 4)\n"
     ]
    }
   ],
   "source": [
    "#Use the tuple() constructor:\n",
    "my_set = {1, 2, 3, 4}\n",
    "my_tuple = tuple(my_set)\n",
    "print(my_tuple)"
   ]
  },
  {
   "cell_type": "markdown",
   "id": "3a686ead-6e68-41d5-ae9f-e45f2d7cb379",
   "metadata": {},
   "source": [
    "# Converting Other Types to a Dictionary"
   ]
  },
  {
   "cell_type": "markdown",
   "id": "f5e7216c-e941-44fa-97d0-ada4b70e4439",
   "metadata": {},
   "source": [
    "# List of Tuples to Dictionary"
   ]
  },
  {
   "cell_type": "code",
   "execution_count": 9,
   "id": "77bf1b16-6332-4579-ad40-ec568a665f86",
   "metadata": {},
   "outputs": [
    {
     "name": "stdout",
     "output_type": "stream",
     "text": [
      "{'a': 1, 'b': 2, 'c': 3}\n"
     ]
    }
   ],
   "source": [
    "#If your list contains 2-element tuples, you can convert it to a dictionary:\n",
    "\n",
    "my_list = [(\"a\", 1), (\"b\", 2), (\"c\", 3)]\n",
    "my_dict = dict(my_list)\n",
    "print(my_dict)  # Output: {'a': 1, 'b': 2, 'c': 3}\n"
   ]
  },
  {
   "cell_type": "markdown",
   "id": "7439989f-abf6-414e-8571-c16280317158",
   "metadata": {},
   "source": [
    "# Tuple of Tuples to Dictionary"
   ]
  },
  {
   "cell_type": "code",
   "execution_count": 10,
   "id": "47c69a5f-84d8-49a6-aa03-4c4ce084ec55",
   "metadata": {},
   "outputs": [
    {
     "name": "stdout",
     "output_type": "stream",
     "text": [
      "{'a': 1, 'b': 2, 'c': 3}\n"
     ]
    }
   ],
   "source": [
    "# if the tuple contains key-value pairs:\n",
    "\n",
    "my_tuple = ((\"a\", 1), (\"b\", 2), (\"c\", 3))\n",
    "my_dict = dict(my_tuple)\n",
    "print(my_dict) "
   ]
  },
  {
   "cell_type": "markdown",
   "id": "4cb4ac36-b3b3-4f09-91d0-9f581c44a6aa",
   "metadata": {},
   "source": [
    "# Set to Dictionary"
   ]
  },
  {
   "cell_type": "code",
   "execution_count": 11,
   "id": "30b14600-6120-40c0-9141-e3728dd4910a",
   "metadata": {},
   "outputs": [
    {
     "name": "stdout",
     "output_type": "stream",
     "text": [
      "{1: 1, 2: 4, 3: 9}\n"
     ]
    }
   ],
   "source": [
    "# You need to first create key-value pairs because sets don't have a structure for pairs:\n",
    "\n",
    "my_set = {1, 2, 3}\n",
    "my_dict = {x: x**2 for x in my_set}\n",
    "print(my_dict)"
   ]
  },
  {
   "cell_type": "code",
   "execution_count": 13,
   "id": "09ed0ad6-ddab-41b9-9b65-4d1e833b1af9",
   "metadata": {},
   "outputs": [],
   "source": [
    "# Key Points to Remember\n",
    "\n",
    "# Duplicates in Sets: Sets automatically remove duplicates when converting from a list or tuple.\n",
    "# Order in Sets: Sets are unordered, so converting a set back to a list or tuple may not preserve the original order.\n",
    "# Dictionary Requirements: When converting to a dictionary, you need key-value pairs (e.g., tuples with two elements)."
   ]
  },
  {
   "cell_type": "markdown",
   "id": "ce6ee497-95db-4f54-9dea-9e2de3772a59",
   "metadata": {},
   "source": [
    "# Converting Dictionaries to Other Types"
   ]
  },
  {
   "cell_type": "markdown",
   "id": "30269c49-50c2-44a5-a7cb-6b77650c869e",
   "metadata": {},
   "source": [
    "# Dictionary to List"
   ]
  },
  {
   "cell_type": "code",
   "execution_count": 14,
   "id": "1f22f822-a2c8-4be7-940a-cad09cdc2931",
   "metadata": {},
   "outputs": [],
   "source": [
    "# A dictionary can be converted to a list, but you must decide what you want to extract:\n",
    "\n",
    "# Keys: list(dictionary.keys())\n",
    "# Values: list(dictionary.values())\n",
    "# Key-Value Pairs: list(dictionary.items()) (returns a list of tuples).\n",
    "\n",
    "my_dict = {\"a\": 1, \"b\": 2, \"c\": 3}\n",
    "\n",
    "# Convert to list of keys\n",
    "keys_list = list(my_dict.keys())  # ['a', 'b', 'c']\n",
    "\n",
    "# Convert to list of values\n",
    "values_list = list(my_dict.values())  # [1, 2, 3]\n",
    "\n",
    "# Convert to list of key-value tuples\n",
    "items_list = list(my_dict.items())  # [('a', 1), ('b', 2), ('c', 3)]\n"
   ]
  },
  {
   "cell_type": "markdown",
   "id": "e99f07e4-51e8-40df-81ec-6d7a1d23088f",
   "metadata": {},
   "source": [
    "# Dictionary to Tuple"
   ]
  },
  {
   "cell_type": "code",
   "execution_count": 15,
   "id": "9d9e8fd1-0921-4076-9e2e-bb67b7c6f133",
   "metadata": {},
   "outputs": [],
   "source": [
    "# Similar to a list, you can convert dictionaries to a tuple of:\n",
    "\n",
    "# Keys: tuple(dictionary.keys())\n",
    "# Values: tuple(dictionary.values())\n",
    "# Key-Value Pairs: tuple(dictionary.items()).\n",
    "\n",
    "# Convert to tuple of keys\n",
    "keys_tuple = tuple(my_dict.keys())  # ('a', 'b', 'c')\n",
    "\n",
    "# Convert to tuple of values\n",
    "values_tuple = tuple(my_dict.values())  # (1, 2, 3)\n",
    "\n",
    "# Convert to tuple of key-value pairs\n",
    "items_tuple = tuple(my_dict.items())  # (('a', 1), ('b', 2), ('c', 3))\n"
   ]
  },
  {
   "cell_type": "markdown",
   "id": "9cd492ed-145b-428a-a862-c8055e520fb0",
   "metadata": {},
   "source": [
    "#  Dictionary to Set"
   ]
  },
  {
   "cell_type": "code",
   "execution_count": 16,
   "id": "b56529a4-d6e4-438e-8805-a5b509c08692",
   "metadata": {},
   "outputs": [],
   "source": [
    "# You can convert a dictionary to a set, but by default, only keys are taken. \n",
    "# If you need other components like values or key-value pairs, you'll need to explicitly extract them.\n",
    "\n",
    "# Convert to set of keys\n",
    "keys_set = set(my_dict.keys())  # {'a', 'b', 'c'}\n",
    "\n",
    "# Convert to set of values\n",
    "values_set = set(my_dict.values())  # {1, 2, 3}\n",
    "\n",
    "# Convert to set of key-value tuples\n",
    "items_set = set(my_dict.items())  # {('a', 1), ('b', 2), ('c', 3)}\n"
   ]
  },
  {
   "cell_type": "code",
   "execution_count": null,
   "id": "a6f738f8-6174-4386-9101-dc7766bc5194",
   "metadata": {},
   "outputs": [],
   "source": [
    "# Summary\n",
    "# 1. Dictionaries can be converted to lists, tuples, or sets by extracting keys, values, or key-value pairs.\n",
    "# 2. Lists or tuples must contain exactly 2-element pairs (key-value) to be converted into a dictionary. If they don’t, preprocessing is needed.\n",
    "# 3. If you're dealing with irregular data (e.g., 3-element tuples or tuples without key-value pairs), \n",
    "#    you'll need to preprocess or transform the data into key-value pairs.\n"
   ]
  }
 ],
 "metadata": {
  "kernelspec": {
   "display_name": "Python 3 (ipykernel)",
   "language": "python",
   "name": "python3"
  },
  "language_info": {
   "codemirror_mode": {
    "name": "ipython",
    "version": 3
   },
   "file_extension": ".py",
   "mimetype": "text/x-python",
   "name": "python",
   "nbconvert_exporter": "python",
   "pygments_lexer": "ipython3",
   "version": "3.11.3"
  }
 },
 "nbformat": 4,
 "nbformat_minor": 5
}
